{
 "cells": [
  {
   "cell_type": "markdown",
   "id": "8b1a4ff6",
   "metadata": {},
   "source": [
    "#### 1. Reproducing a plot\n",
    "1. Use `numpy`'s `random` module to generate a random list of size 1000 of the following three categories: \"CS\", \"Engineering\", \"Math\" and \"Physics\"\n",
    "  1.1 Use a seed of 42\n",
    "2. Store the data in an array called my `students_affiliations`\n",
    "3. use `matplotlib` to plot the data in `students_affiliations` to reproduce the following graph\n",
    " 3.1 The plot uses \"#FF5733\" as color with an alpha (transparency) of 0.55.\n",
    "\n",
    "* Your graph should look exactly like the one below\n",
    "\n",
    "![](https://www.dropbox.com/s/ffmu62es6d7evh5/experience_fig.png?dl=1)"
   ]
  },
  {
   "cell_type": "markdown",
   "id": "bf3607f3",
   "metadata": {},
   "source": [
    "#### 2. Generating a scatter plot\n",
    "* Generate random data to produce a scatter plot\n",
    "  * You can use any function to generate the data\n",
    "  * Instead of using circles as symbols, you should use squares.\n",
    "    "
   ]
  },
  {
   "cell_type": "code",
   "execution_count": 1,
   "id": "275a52d9",
   "metadata": {},
   "outputs": [],
   "source": [
    "import numpy as np\n",
    "import matplotlib.pyplot as plt\n",
    "import pandas as pd"
   ]
  },
  {
   "cell_type": "code",
   "execution_count": 2,
   "id": "e72529e1",
   "metadata": {},
   "outputs": [],
   "source": [
    "sub = [\"Physics\", \"CS\", \"Math\", \"Engineering\"]\n",
    "np.random.seed(42)\n",
    "student_affiliations = [np.random.choice(sub) for i in range(1000)]"
   ]
  },
  {
   "cell_type": "code",
   "execution_count": 3,
   "id": "9f7530eb",
   "metadata": {},
   "outputs": [
    {
     "data": {
      "text/plain": [
       "['Math',\n",
       " 'Engineering',\n",
       " 'Physics',\n",
       " 'Math',\n",
       " 'Math',\n",
       " 'Engineering',\n",
       " 'Physics',\n",
       " 'Physics',\n",
       " 'Math',\n",
       " 'CS']"
      ]
     },
     "execution_count": 3,
     "metadata": {},
     "output_type": "execute_result"
    }
   ],
   "source": [
    "student_affiliations[:10]"
   ]
  },
  {
   "cell_type": "code",
   "execution_count": 4,
   "id": "d34fca14",
   "metadata": {},
   "outputs": [],
   "source": [
    "student_data = pd.DataFrame(student_affiliations)"
   ]
  },
  {
   "cell_type": "code",
   "execution_count": 5,
   "id": "69fc1d7a",
   "metadata": {},
   "outputs": [
    {
     "data": {
      "text/plain": [
       "Text(0, 0.5, 'Counts')"
      ]
     },
     "execution_count": 5,
     "metadata": {},
     "output_type": "execute_result"
    },
    {
     "data": {
      "image/png": "[encoded data removed]",
      "text/plain": [
       "<Figure size 432x288 with 1 Axes>"
      ]
     },
     "metadata": {
      "needs_background": "light"
     },
     "output_type": "display_data"
    }
   ],
   "source": [
    "plt.bar(sub, student_data.value_counts(), color = '#FF5733', alpha = 0.55)\n",
    "plt.title('Distribution of students in the program', color = 'Green')\n",
    "plt.xlabel('Disciplines')\n",
    "plt.ylabel('Counts')"
   ]
  },
  {
   "cell_type": "markdown",
   "id": "622407be",
   "metadata": {},
   "source": [
    "### Example of Scatter plot"
   ]
  },
  {
   "cell_type": "code",
   "execution_count": 6,
   "id": "24f9cdcb",
   "metadata": {},
   "outputs": [],
   "source": [
    "temp_F = np.random.randint(75, 120, 20)\n",
    "icecream_sales = np.random.randint(80, 350, 20)"
   ]
  },
  {
   "cell_type": "code",
   "execution_count": 8,
   "id": "399dbe7b",
   "metadata": {},
   "outputs": [
    {
     "data": {
      "text/plain": [
       "Text(0, 0.5, 'Ice cream sales ($)')"
      ]
     },
     "execution_count": 8,
     "metadata": {},
     "output_type": "execute_result"
    },
    {
     "data": {
      "image/png": "[encoded data removed]",
      "text/plain": [
       "<Figure size 432x288 with 1 Axes>"
      ]
     },
     "metadata": {
      "needs_background": "light"
     },
     "output_type": "display_data"
    }
   ],
   "source": [
    "plt.scatter(temp_F, icecream_sales, marker = 's', color = 'red')\n",
    "plt.title('Ice cream sales based on temperature', color = 'Blue')\n",
    "plt.xlabel('Temperature (F)')\n",
    "plt.ylabel('Ice cream sales ($)')"
   ]
  },
  {
   "cell_type": "code",
   "execution_count": null,
   "id": "bf1940e4",
   "metadata": {},
   "outputs": [],
   "source": []
  }
 ],
 "metadata": {
  "kernelspec": {
   "display_name": "Python 3 (ipykernel)",
   "language": "python",
   "name": "python3"
  },
  "language_info": {
   "codemirror_mode": {
    "name": "ipython",
    "version": 3
   },
   "file_extension": ".py",
   "mimetype": "text/x-python",
   "name": "python",
   "nbconvert_exporter": "python",
   "pygments_lexer": "ipython3",
   "version": "3.9.7"
  }
 },
 "nbformat": 4,
 "nbformat_minor": 5
}
