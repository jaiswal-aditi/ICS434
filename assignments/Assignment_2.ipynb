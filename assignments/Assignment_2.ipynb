{
 "cells": [
  {
   "cell_type": "code",
   "execution_count": 1,
   "metadata": {},
   "outputs": [],
   "source": [
    "from scipy import stats\n",
    "import numpy as np\n",
    "import matplotlib.pyplot as plt\n",
    "import scipy as sp\n",
    "import scipy.stats as stats\n",
    "import pandas as pd\n",
    "%matplotlib inline"
   ]
  },
  {
   "cell_type": "markdown",
   "metadata": {},
   "source": [
    "### Brief Overview \n",
    "\n",
    "- The goal of this assignment is to practice some essential probability and hypothesis testing sections.\n",
    "\n",
    "The assignment consists of two parts: 1- generative models and simulation; and 2- data analysis, interpretation and hypothesis testing. In both problems, you are given bits of information that guide you through solving the problem step-by-step before you are asked to repeat the analysis on a different question.\n",
    "\n",
    "##### Instructions on answering the questions\n",
    "\n",
    "1. The only Python modules you can use in this assignment are those imported for you in the top cell. They are `matplotlib`, `numpy`, `scipy`, and `pandas`\n",
    "\n",
    "2. Your graphs must have titles and axes labels.\n",
    "  The plot size can be set using `plt.figure(figsize=(a,b))`, where (a,b) are the plot dimensions"
   ]
  },
  {
   "cell_type": "markdown",
   "metadata": {},
   "source": [
    "# PROBLEM 1\n",
    "----"
   ]
  },
  {
   "cell_type": "markdown",
   "metadata": {},
   "source": [
    "### Modeling Revenue from Memberships on a Training Website\n",
    "\n",
    "* We are interested in modeling sales revenue for a membership-based training website over 2022. In summary, the website charges a monthly fee ($39.99) and enrollees can take as long as they need to complete their training. Students can quit the platform at any time without completing the training.\n",
    "\n",
    "We know that:\n",
    "  * Women finish training faster on average than men\n",
    "  * Women quit less often on average than men \n",
    "  * Students have a small chance of dropping each month. As students get close to the end of the training, the probability of dropping decays (decreases), i.e., the longer a student has paid, the less likely they are to give up on their investment and leave the platform.\n",
    "  \n",
    "  * The site has seen a steady annual increase in memberships over the past five years. The average yearly increase was 13%, and the standard deviation was 1.4%. Memberships are expected to increase by the same percentage next year.\n",
    "   * In 2021, 90,316 people enrolled on the training site\n",
    "  \n",
    "* We have access to some of the data from previous years. The data is stored in the file `memberships_info.csv` and can be downloaded from the following [URL](https://www.dropbox.com/s/evaaiu1mevw6t3j/memberships_info.csv?dl=1)\n",
    "\n",
    "   \n",
    "The data contains the following columns:\n",
    "\n",
    "| Column    | Description                                    |\n",
    "|-----------|------------------------------------------------|\n",
    "| member_id | unique identifier of the member                |\n",
    "| gender    | M for male and F for female                    |\n",
    "| status    | C for completed and Q for quit                 |\n",
    "| mem_duration  | Total duration of the membership in Months |\n",
    "  \n",
    "\n",
    "\n",
    "Your task is to develop a generative model, which can be used to estimate revenue for next year. Nevertheless, the model's parameters need to be identified and their underlying distributions hypothesized before their estimated values can be determined. \n"
   ]
  },
  {
   "cell_type": "markdown",
   "metadata": {},
   "source": [
    "### Reading the Data \n",
    "\n",
    "* Use `pandas` to read in the data into a variable called `sample_users`\n",
    "* Based on the data in the tables, what is the proportion of males who completed the training?\n"
   ]
  },
  {
   "cell_type": "code",
   "execution_count": 2,
   "metadata": {},
   "outputs": [
    {
     "data": {
      "text/html": [
       "<div>\n",
       "<style scoped>\n",
       "    .dataframe tbody tr th:only-of-type {\n",
       "        vertical-align: middle;\n",
       "    }\n",
       "\n",
       "    .dataframe tbody tr th {\n",
       "        vertical-align: top;\n",
       "    }\n",
       "\n",
       "    .dataframe thead th {\n",
       "        text-align: right;\n",
       "    }\n",
       "</style>\n",
       "<table border=\"1\" class=\"dataframe\">\n",
       "  <thead>\n",
       "    <tr style=\"text-align: right;\">\n",
       "      <th></th>\n",
       "      <th>member_id</th>\n",
       "      <th>gender</th>\n",
       "      <th>status</th>\n",
       "      <th>mem_duration</th>\n",
       "    </tr>\n",
       "  </thead>\n",
       "  <tbody>\n",
       "    <tr>\n",
       "      <th>0</th>\n",
       "      <td>7Q4IWMC7DE</td>\n",
       "      <td>F</td>\n",
       "      <td>C</td>\n",
       "      <td>10</td>\n",
       "    </tr>\n",
       "    <tr>\n",
       "      <th>1</th>\n",
       "      <td>IZO8chWgJZ</td>\n",
       "      <td>M</td>\n",
       "      <td>C</td>\n",
       "      <td>6</td>\n",
       "    </tr>\n",
       "    <tr>\n",
       "      <th>2</th>\n",
       "      <td>VKwFA5VINu</td>\n",
       "      <td>F</td>\n",
       "      <td>C</td>\n",
       "      <td>15</td>\n",
       "    </tr>\n",
       "    <tr>\n",
       "      <th>3</th>\n",
       "      <td>EfDYcr3Pn8</td>\n",
       "      <td>F</td>\n",
       "      <td>C</td>\n",
       "      <td>13</td>\n",
       "    </tr>\n",
       "    <tr>\n",
       "      <th>4</th>\n",
       "      <td>lW1u20Myap</td>\n",
       "      <td>M</td>\n",
       "      <td>C</td>\n",
       "      <td>10</td>\n",
       "    </tr>\n",
       "    <tr>\n",
       "      <th>...</th>\n",
       "      <td>...</td>\n",
       "      <td>...</td>\n",
       "      <td>...</td>\n",
       "      <td>...</td>\n",
       "    </tr>\n",
       "    <tr>\n",
       "      <th>130056</th>\n",
       "      <td>mJ911HAbHB</td>\n",
       "      <td>M</td>\n",
       "      <td>Q</td>\n",
       "      <td>4</td>\n",
       "    </tr>\n",
       "    <tr>\n",
       "      <th>130057</th>\n",
       "      <td>87xWLwwKp2</td>\n",
       "      <td>M</td>\n",
       "      <td>Q</td>\n",
       "      <td>3</td>\n",
       "    </tr>\n",
       "    <tr>\n",
       "      <th>130058</th>\n",
       "      <td>hjIO8alt8e</td>\n",
       "      <td>M</td>\n",
       "      <td>Q</td>\n",
       "      <td>11</td>\n",
       "    </tr>\n",
       "    <tr>\n",
       "      <th>130059</th>\n",
       "      <td>fj0X08835V</td>\n",
       "      <td>F</td>\n",
       "      <td>Q</td>\n",
       "      <td>3</td>\n",
       "    </tr>\n",
       "    <tr>\n",
       "      <th>130060</th>\n",
       "      <td>iI3PTPulc0</td>\n",
       "      <td>M</td>\n",
       "      <td>Q</td>\n",
       "      <td>4</td>\n",
       "    </tr>\n",
       "  </tbody>\n",
       "</table>\n",
       "<p>130061 rows × 4 columns</p>\n",
       "</div>"
      ],
      "text/plain": [
       "         member_id gender status  mem_duration\n",
       "0       7Q4IWMC7DE      F      C            10\n",
       "1       IZO8chWgJZ      M      C             6\n",
       "2       VKwFA5VINu      F      C            15\n",
       "3       EfDYcr3Pn8      F      C            13\n",
       "4       lW1u20Myap      M      C            10\n",
       "...            ...    ...    ...           ...\n",
       "130056  mJ911HAbHB      M      Q             4\n",
       "130057  87xWLwwKp2      M      Q             3\n",
       "130058  hjIO8alt8e      M      Q            11\n",
       "130059  fj0X08835V      F      Q             3\n",
       "130060  iI3PTPulc0      M      Q             4\n",
       "\n",
       "[130061 rows x 4 columns]"
      ]
     },
     "execution_count": 2,
     "metadata": {},
     "output_type": "execute_result"
    }
   ],
   "source": [
    "# Write your code here \n",
    "sample_users = pd.read_csv('/Users/aditijaiswal/Downloads/memberships_info.csv')\n",
    "sample_users"
   ]
  },
  {
   "cell_type": "code",
   "execution_count": 3,
   "metadata": {},
   "outputs": [
    {
     "name": "stdout",
     "output_type": "stream",
     "text": [
      "Proportion of males users in the training:  0.35349566741759636\n"
     ]
    }
   ],
   "source": [
    "total_users = sample_users.shape[0]\n",
    "male_users = ((sample_users['gender'] == 'M') & (sample_users['status'] == 'C')).sum()\n",
    "print('Proportion of males users in the training: ', male_users/total_users)"
   ]
  },
  {
   "cell_type": "markdown",
   "metadata": {},
   "source": [
    "### Generative Model for our Simulations\n",
    "\n",
    "Below is a description of the generative model we will use. Our model will simulate yearly sales in 4 steps:\n",
    "\n",
    "  1. Simulate a likely number of enrollees based on $\\mu=13$ and $\\sigma =1.4$ increase from last year (2021).\n",
    "  \n",
    "  2. You can simulate whether a particular enrollee will:\n",
    "  \n",
    "    2.1 Quit the training: In which case, generate a likely value representing the number of months of enrollment before quitting\n",
    "      \n",
    "    2.2 Complete the training: in which case, generate a likely value representing the number of months of enrollment before completing the training\n",
    "\n",
    "  3. Compute the revenue from memberships based on the total number of months of enrollment simulated for each member.\n",
    "\n",
    "* This strategy is shown in the figure below"
   ]
  },
  {
   "cell_type": "markdown",
   "metadata": {},
   "source": [
    "<img src=\"https://www.dropbox.com/s/xvvof9g36m7pthq/generative_model_diagram.png?dl=1\" alt=\"drawing\" style=\"width:700px;\"/>"
   ]
  },
  {
   "cell_type": "markdown",
   "metadata": {},
   "source": [
    "### Estimating the 95% Confidence Interval of the Simulation\n",
    "\n",
    "* We are not interested in one value, but rather the interval in which the revenue falls 95% of the time. Therefore, we need to repeat the experiment above a large number of times (say 5,000) to derive the 95% confidence interval.\n"
   ]
  },
  {
   "cell_type": "markdown",
   "metadata": {},
   "source": [
    "###  1. Generating the Number of Enrollees\n",
    "\n",
    " * As mentioned earlier, the company that provides the training expects the increase in enrollments in 2022 to be comparable to annual increases in the past. The increase has, therefore, a mean $\\mu=13$% and a standard deviation of $\\sigma =1.4$% \n",
    " * Given that last year's number of enrollees was 90,316, use the Gaussian (normal) distribution to sample a likely number of enrollees for 2022. This number will represent the number of enrollees in a single iteration of the generative model\n",
    "\n",
    "* Save the value in a variable called `nb_enrollees`\n",
    "  * Recall that you will need to convert the resulting value to an `int` since the gaussian sample generated is a continuous values  \n",
    "\n"
   ]
  },
  {
   "cell_type": "code",
   "execution_count": 4,
   "metadata": {},
   "outputs": [
    {
     "name": "stdout",
     "output_type": "stream",
     "text": [
      "Percent increase in 2022:  14.406597051136638\n"
     ]
    },
    {
     "data": {
      "text/plain": [
       "103327"
      ]
     },
     "execution_count": 4,
     "metadata": {},
     "output_type": "execute_result"
    }
   ],
   "source": [
    "# Write your code here \n",
    "increase = np.random.normal(0.13, 0.014)\n",
    "print('Percent increase in 2022: ', increase*100)\n",
    "nb_enrollees = int(90316 * (1 + increase))\n",
    "nb_enrollees"
   ]
  },
  {
   "cell_type": "markdown",
   "metadata": {},
   "source": [
    "### Compute the Proportion of People who Quit Training in the Population of Enrollees\n",
    "\n",
    "* Use the data in `sample_users` to build a 98% confidence interval of the proportion of enrollees who quit the training before completing. You can generate a single instance of the rate of people who quit by dividing by the number of  people who quit (`status == \"Q\"` in the data) by the number of people who complete the program (`status == \"C\"` in the data)\n",
    "\n",
    "* Will build a 98% confidence interval by computing the proportion in 10,000 bootstrap iteration of the data\n",
    "\n",
    "* Assing the the the confidence interval tuple to a variable called `quit_prop_conf_int`\n",
    "\n",
    "  "
   ]
  },
  {
   "cell_type": "code",
   "execution_count": 5,
   "metadata": {},
   "outputs": [
    {
     "name": "stdout",
     "output_type": "stream",
     "text": [
      "Total users:  130061\n",
      "# users who quit:  46822\n",
      "# users who completed:  83239\n"
     ]
    }
   ],
   "source": [
    "# Write your code here \n",
    "print('Total users: ', total_users)\n",
    "quitters = sample_users[sample_users['status'] == 'Q'].count()[0]\n",
    "print('# users who quit: ',quitters)\n",
    "completers = total_users - quitters\n",
    "print('# users who completed: ',completers)"
   ]
  },
  {
   "cell_type": "code",
   "execution_count": 6,
   "metadata": {},
   "outputs": [
    {
     "data": {
      "text/plain": [
       "array([0.48148148, 0.65562914])"
      ]
     },
     "execution_count": 6,
     "metadata": {},
     "output_type": "execute_result"
    }
   ],
   "source": [
    "conf_ratio = []\n",
    "\n",
    "for i in range(10000):\n",
    "    sample_pop = sample_users.sample(1000, replace=True)\n",
    "    proportion_bootstrap = sample_pop[sample_pop['status'] == \"Q\"].shape[0] / sample_pop[sample_pop['status'] == \"C\"].shape[0]\n",
    "    conf_ratio.append(proportion_bootstrap)\n",
    "\n",
    "quit_prop_conf_int = np.percentile(conf_ratio, (1, 99))\n",
    "\n",
    "quit_prop_conf_int"
   ]
  },
  {
   "cell_type": "markdown",
   "metadata": {},
   "source": [
    "\n",
    "### 2. Generating a Radom Quitting Probability\n",
    "\n",
    "Approximately 98% of the time, the quitting parameter is within the 98% confidence interval. In order to incorporate this uncertainty in our model, we will randomly pick a quitting probability from this confidence interval and use it to estimate the number of people who quit each in iteration our our simualtion\n",
    " \n",
    "  * Use `np.random.uniform(min, max)` to randomly pick a value in the interval.\n",
    "  * ex. if the bounds of your quit_prop_conf_int are (0.2, 0.3), a possible value is \n",
    "  \n",
    "```python  \n",
    "  np.random.uniform(0.2, 0.3)\n",
    "  >>> 0.225\n",
    "  # this is equivalent to \n",
    "  # np.random.uniform(quit_prop_conf_int[0], quit_prop_conf_int[1])\n",
    "```\n",
    "\n",
    "Save the value in a variable called `quit_prop`"
   ]
  },
  {
   "cell_type": "code",
   "execution_count": 7,
   "metadata": {},
   "outputs": [
    {
     "data": {
      "text/plain": [
       "0.4865811566961078"
      ]
     },
     "execution_count": 7,
     "metadata": {},
     "output_type": "execute_result"
    }
   ],
   "source": [
    "# Write your code here\n",
    "\n",
    "quit_prop = np.random.uniform(quit_prop_conf_int[0], quit_prop_conf_int[1])\n",
    "quit_prop"
   ]
  },
  {
   "cell_type": "markdown",
   "metadata": {},
   "source": [
    "### 3. Simulating the Number for People Who Quit and Those Who Complete the Training\n",
    "\n",
    "* Use the variables `nb_enrollees` and `quit_param` to determine the number of people who will complete the training and the number of enrollees who will quit.\n",
    "\n",
    "* Save the value in `nb_enrollees_finish` and `nb_enrollees_quit` \n",
    "\n",
    "  * Recall that the resulting values are integers not floats.\n",
    "  * Verify that\n",
    "```\n",
    "nb_enrollees_finish + nb_enrollees_quit == nb_enrollees\n",
    "```"
   ]
  },
  {
   "cell_type": "code",
   "execution_count": 8,
   "metadata": {},
   "outputs": [
    {
     "data": {
      "text/plain": [
       "True"
      ]
     },
     "execution_count": 8,
     "metadata": {},
     "output_type": "execute_result"
    }
   ],
   "source": [
    "# Write your code here \n",
    "\n",
    "nb_enrollees_finish = int(nb_enrollees * (1 - quit_prop))\n",
    "nb_enrollees_quit = nb_enrollees - nb_enrollees_finish\n",
    "nb_enrollees_finish + nb_enrollees_quit == nb_enrollees"
   ]
  },
  {
   "cell_type": "markdown",
   "metadata": {},
   "source": [
    "### Determining the Number of Payments Enrollees Make Before Quitting\n",
    "\n",
    "* Here we will be modeling the number of months that a person remains enrolled before eventually quitting\n",
    "\n",
    "* Recall that the probability of dropping declines as the students get closer to completing the training\n",
    "  * A person is more likely to quit in the first month than in any other month \n",
    "  * The probability of unenrolling during month $t$ is always higher than the probability of unenrolling during month $t+1$\n",
    "  * The longer the student has paid, the less likely they are to drop out\n",
    "  \n",
    " \n",
    "* The illustrations A, B and C below are all valid representations of the probability distribution that satisfy the constraints set above.\n",
    "  * For illustration purposes, the function is represented in the range [1, 10].\n",
    "\n",
    "<img src=\"https://www.dropbox.com/s/ys12ubh0mvmyji5/decay.png?dl=1\" alt=\"drawing\" style=\"width:1400px;\"/>"
   ]
  },
  {
   "cell_type": "markdown",
   "metadata": {},
   "source": [
    "### Identifying the Most Likely Parameters\n",
    "\n",
    "* This three figure above (A, B and C) all represent exponential probability distributions\n",
    "  https://docs.scipy.org/doc/scipy/reference/generated/scipy.stats.expon.html\n",
    " \n",
    "* While we haven't covered this distribution in class, all we need to know is that this distribution has two parameters:\n",
    "  * `loc`: represents the value at which the function has its maximum\n",
    "  * `scale`: represents the \"inverse rate of decay\"\n",
    "    * the larger the scale, the slower the function is to reach a probability of 0.\n",
    "  \n",
    "* In the example above, all three figures were generated with a `loc` of 1 since enrollees are most likely to quit during the first month than in any other month\n",
    "* Figures A, B and C have different scale parameters; decays (`scale`) of `0.2`, `1` and `200` respectively\n",
    "\n",
    "* Examples of how to use the exponential probability distribution (`expon`) are given below\n",
    "\n"
   ]
  },
  {
   "cell_type": "code",
   "execution_count": 9,
   "metadata": {},
   "outputs": [
    {
     "data": {
      "text/plain": [
       "[<matplotlib.lines.Line2D at 0x7ff4f35856d0>]"
      ]
     },
     "execution_count": 9,
     "metadata": {},
     "output_type": "execute_result"
    },
    {
     "data": {
      "image/png": "[encoded data removed]",
      "text/plain": [
       "<Figure size 1584x288 with 2 Axes>"
      ]
     },
     "metadata": {
      "needs_background": "light"
     },
     "output_type": "display_data"
    }
   ],
   "source": [
    "plt.figure(figsize=(22,4))\n",
    "x = np.linspace(0, 10, 1000)\n",
    "\n",
    "y_dist_1 = stats.expon(1, 1)\n",
    "y_dist_2 = stats.expon(1, 4)\n",
    "\n",
    "\n",
    "plt.subplot(1, 2, 1)\n",
    "plt.plot(x, y_dist_1.pdf(x), label=\"$a=0.2$\")\n",
    "\n",
    "\n",
    "plt.subplot(1, 2, 2)\n",
    "plt.plot(x, y_dist_2.pdf(x), label=\"$a=1$\")\n",
    "\n"
   ]
  },
  {
   "cell_type": "code",
   "execution_count": 10,
   "metadata": {},
   "outputs": [
    {
     "data": {
      "text/plain": [
       "array([2.31934703, 2.96970045, 9.56543702, 3.48723241, 5.98442522,\n",
       "       2.23223132, 2.57137759])"
      ]
     },
     "execution_count": 10,
     "metadata": {},
     "output_type": "execute_result"
    }
   ],
   "source": [
    "# Sampling 7 values from stats.expon with `loc=1` and `scale=2`\n",
    "\n",
    "stats.expon(1, 2).rvs(7)"
   ]
  },
  {
   "cell_type": "markdown",
   "metadata": {},
   "source": [
    "### Identifying the Scale Parameter that Maximizes the Likelihood (ML)\n",
    "\n",
    "* We will set `loc=1` since enrollees are likely to quit during the first month. However, what value of `scale` maximizes the log-likelihood of our data?\n",
    "  \n",
    "  \n",
    "* Before we answer this question, compute the log-likelihood of this dataset using a `scale` value of 5\n",
    " * Recall that the obsersed data here is the number of months a person remains enrolled before eventually quitting\n",
    "   * Make sure that your data is the `mem_duration` for individuals with `status==\"Q\"`\n",
    "\n",
    "* Also, to compute the log-likelihood of the data [2,1,2,3,4] and `location=1` and `scale=5`, we write:\n",
    "\n",
    "\n",
    "```python\n",
    "    log_pdfs = stats.expon(1, 4).logpdf([2,1,2,3,4])\n",
    "    sum(log_pdfs)\n",
    "    # or simply \n",
    "    # sum(stats.expon(1, 4).logpdf([2,1,2,3,4]))\n",
    "```\n",
    "\n",
    "* Note that above we chain operations by first building the distribution using `stats.expon(1, 4)` and, which we subsequently use to call the method `logpdf([2,1,2,3,4])`"
   ]
  },
  {
   "cell_type": "code",
   "execution_count": 11,
   "metadata": {},
   "outputs": [
    {
     "data": {
      "text/plain": [
       "-127237.50193603487"
      ]
     },
     "execution_count": 11,
     "metadata": {},
     "output_type": "execute_result"
    }
   ],
   "source": [
    "# Write your code here \n",
    "\n",
    "mem_quit = sample_users.loc[sample_users['status']=='Q']['mem_duration']\n",
    "log_likelihood = stats.expon(1, 5).logpdf(mem_quit)\n",
    "sum(log_likelihood)"
   ]
  },
  {
   "cell_type": "markdown",
   "metadata": {},
   "source": [
    "### Estimating Scale Using the Maximum Likelihood\n",
    "\n",
    "* Compute and plot the log-likelihood of `scale` values between 1 and 50 given the data\n",
    "\n",
    "* Your graph should look like the one below.\n",
    "\n",
    "  * The X-axis represents possible scale params\n",
    "  * The Y-axis represents the log-likelihood of your data\n",
    "\n",
    "<img src=\"https://www.dropbox.com/s/qo5t4qck68pbads/ML.png?dl=1\" alt=\"drawing\" style=\"width:1400px;\"/>\n",
    "\n",
    "* Notes:\n",
    "  * I have marked the graph to indicate where likelihood is maximal\n",
    "  * The x-axis ticks are intentionally missing. Make sure yours are not.\n"
   ]
  },
  {
   "cell_type": "code",
   "execution_count": 12,
   "metadata": {},
   "outputs": [
    {
     "data": {
      "text/plain": [
       "Text(0, 0.5, 'log-likelihood')"
      ]
     },
     "execution_count": 12,
     "metadata": {},
     "output_type": "execute_result"
    },
    {
     "data": {
      "image/png": "[encoded data removed]",
      "text/plain": [
       "<Figure size 1080x288 with 1 Axes>"
      ]
     },
     "metadata": {
      "needs_background": "light"
     },
     "output_type": "display_data"
    }
   ],
   "source": [
    "# Write your code here \n",
    "\n",
    "log_vals = [sum(stats.expon(1, i).logpdf(mem_quit)) for i in range(1, 51)]\n",
    "x_val = range(1, 51)\n",
    "plt.figure(figsize=(15,4))\n",
    "plt.plot(x_val, log_vals)\n",
    "plt.xticks(np.arange(0, 52,step = 1))\n",
    "xmax = np.argmax(log_vals)\n",
    "ymax = max(log_vals)\n",
    "plt.plot(xmax, ymax, 'ro')\n",
    "plt.xlabel(\"scale\")\n",
    "plt.ylabel(\"log-likelihood\")"
   ]
  },
  {
   "cell_type": "markdown",
   "metadata": {},
   "source": [
    "### 4. Simulating Users Unenrolling from the Training\n",
    "\n",
    "* Simulate the number of months users who quit are likely to have stayed on the platform before quitting.\n",
    "\n",
    "* This can be done by sampling from the exponential using the `loc=1` and the `scale` parameter identified above. E.g.,. if your scale is 4, you can use: \n",
    "\n",
    "```python \n",
    "    scale =4\n",
    "    nb_users = 1\n",
    "    stats.expon(1, scale).rvs(nb_users)\n",
    "    array([ 2.68001742])\n",
    "    \n",
    "```\n",
    "\n",
    "* The above value tells us the user we simulated stayed on for 2.6 months before quitting. \n",
    "  *  To simulate multiple users, simply change the value of nb_users\n",
    "\n",
    "Since users pay monthly, you can round the values up to the nearest integer\n",
    "  *I.e., use `np.ceil` to determine the ceiling\n",
    "\n",
    "* Simulate the number of months enrolled for all users in `nb_enrollees_quit`  \n",
    " * Save the value to a variable called `months_paid_before_quitting`.   "
   ]
  },
  {
   "cell_type": "code",
   "execution_count": 13,
   "metadata": {},
   "outputs": [
    {
     "data": {
      "text/plain": [
       "array([ 5., 18.,  4., ...,  2.,  3.,  4.])"
      ]
     },
     "execution_count": 13,
     "metadata": {},
     "output_type": "execute_result"
    }
   ],
   "source": [
    "# Write your code here \n",
    "\n",
    "months_paid_before_quitting = np.ceil(stats.expon(1, xmax).rvs(nb_enrollees_quit))\n",
    "months_paid_before_quitting"
   ]
  },
  {
   "cell_type": "markdown",
   "metadata": {},
   "source": [
    "### Modeling the Membership Duration for Enrollees who Complete the Training\n",
    "\n",
    "* We will use a similar approach to derive the duration of enrollment for users who completed the training\n",
    "\n",
    "  * Here we are not concerned by the gender difference.\n",
    "    \n",
    "* Plot a KDE of the duration of enrollment for enrollees who finished the training. \n",
    "  * Your graph should look like the following. \n",
    "\n",
    "<img src=\"https://www.dropbox.com/s/it164wz91kr44cz/kde.png?dl=1\" alt=\"drawing\" style=\"width:600px;\"/>"
   ]
  },
  {
   "cell_type": "code",
   "execution_count": 14,
   "metadata": {},
   "outputs": [
    {
     "data": {
      "text/plain": [
       "(-1.0, 30.0)"
      ]
     },
     "execution_count": 14,
     "metadata": {},
     "output_type": "execute_result"
    },
    {
     "data": {
      "image/png": "[encoded data removed]",
      "text/plain": [
       "<Figure size 1080x288 with 1 Axes>"
      ]
     },
     "metadata": {
      "needs_background": "light"
     },
     "output_type": "display_data"
    }
   ],
   "source": [
    "# Write your code here \n",
    "\n",
    "mem_completed = sample_users[sample_users['status']=='C']['mem_duration']\n",
    "plt.figure(figsize = (15,4))\n",
    "mem_completed.plot.kde(bw_method = 0.4)\n",
    "plt.xlabel(\"Membership duration\")\n",
    "plt.title(\"KDE of Membership Duration for Enrollees who Complete the Training\")\n",
    "plt.xlim([-1, 30])"
   ]
  },
  {
   "cell_type": "markdown",
   "metadata": {},
   "source": [
    "### Visually identifying mean training completion time\n",
    "\n",
    "* Based on the KDE above, how long does it take, on average, to complte the training?\n",
    "\n"
   ]
  },
  {
   "cell_type": "code",
   "execution_count": 15,
   "metadata": {
    "tags": []
   },
   "outputs": [
    {
     "data": {
      "text/plain": [
       "9.178474032604909"
      ]
     },
     "execution_count": 15,
     "metadata": {},
     "output_type": "execute_result"
    }
   ],
   "source": [
    "### Write your answer here\n",
    "\n",
    "np.mean(mem_completed)"
   ]
  },
  {
   "cell_type": "markdown",
   "metadata": {},
   "source": [
    "So, it takes approximately 9 years."
   ]
  },
  {
   "cell_type": "markdown",
   "metadata": {},
   "source": [
    "### Modeling the Membership Duration for Enrollees who Complete the Training - Cont'd \n",
    "\n",
    "\n",
    "* Searching online for similar-looking probability distributions, you find that your KDE resembles a gamma distribution. \n",
    "  \n",
    "   https://docs.scipy.org/doc/scipy/reference/generated/scipy.stats.gamma.html\n",
    "\n",
    "* The gamma distribution takes a single parameter $a$ called the shape parameter.\n",
    "  * See the documentation for `stats.gamma` in the `scipy` package\n",
    "\n",
    "* Below are a couple of examples of usage of `stats.gamma`. The first was generated with $a=2$ and the second with $a=8$\n",
    "  \n",
    "<img src=\"images/two_gammas.png\" alt=\"drawing\" style=\"width:1000px;\"/>\n"
   ]
  },
  {
   "cell_type": "markdown",
   "metadata": {},
   "source": [
    "### Computing the Maximum Likelihood Value of the Parameter $a$\n",
    "\n",
    "* Use the Maximum Likelihood to identify the value of the parameter $a$ that maximizes the log-likelihood \n",
    "    \n",
    "  * Compute and plot the log-likelihood for the values between 1 and 25\n",
    "  \n",
    "    * The X-axis represents possible distribution params\n",
    "    * The Y-axis represents the log-likelihood of your data\n",
    "  * Recall that tour data consists of the `mem_duration` for users where `status == \"C\"`\n",
    "  \n",
    "* Notes:\n",
    "  * I clearly marked the graph to indicate where likelihood is maximal\n",
    "  * The x-axis ticks are intentionally missing. Make sure yours are not.\n",
    "  * You can  use the `logpdf` directly on the `gamma(x)` object \n",
    "  \n",
    "<img src=\"https://www.dropbox.com/s/dahd99mz258curq/ML_gamma.png?dl=1\" alt=\"drawing\" style=\"width:800px;\"/>\n",
    "\n"
   ]
  },
  {
   "cell_type": "code",
   "execution_count": 16,
   "metadata": {},
   "outputs": [
    {
     "data": {
      "text/plain": [
       "[<matplotlib.lines.Line2D at 0x7ff502c5bac0>]"
      ]
     },
     "execution_count": 16,
     "metadata": {},
     "output_type": "execute_result"
    },
    {
     "data": {
      "image/png": "[encoded data removed]",
      "text/plain": [
       "<Figure size 1080x288 with 1 Axes>"
      ]
     },
     "metadata": {
      "needs_background": "light"
     },
     "output_type": "display_data"
    }
   ],
   "source": [
    "# Write your code here\n",
    "\n",
    "mem_completed = sample_users[sample_users['status']=='C']['mem_duration']\n",
    "loglike = []\n",
    "for i in range(25):\n",
    "    loglike.append(sum(stats.gamma(i+1).logpdf(mem_completed)))\n",
    "    \n",
    "plt.figure(figsize=(15, 4))\n",
    "x = np.linspace(1,25,25)\n",
    "plt.plot(x, loglike)\n",
    "\n",
    "xmax = np.argmax(loglike)\n",
    "ymax = max(loglike)\n",
    "plt.xticks(np.arange(1,26,step=1))\n",
    "plt.plot(xmax,ymax,'ro')"
   ]
  },
  {
   "cell_type": "markdown",
   "metadata": {},
   "source": [
    "### Computing the Maximum Likelihood Value of the Parameter $a$ - Cont'd\n",
    "\n",
    "\n",
    "* What is the value that maximizes the likelihood?\n",
    "* Does this value align with what you observed after inspecting rhe KDE graph above?\n",
    "\n"
   ]
  },
  {
   "cell_type": "code",
   "execution_count": 17,
   "metadata": {
    "tags": []
   },
   "outputs": [
    {
     "data": {
      "text/plain": [
       "8"
      ]
     },
     "execution_count": 17,
     "metadata": {},
     "output_type": "execute_result"
    }
   ],
   "source": [
    "# Write you code here \n",
    "\n",
    "np.argmax(loglike)"
   ]
  },
  {
   "cell_type": "markdown",
   "metadata": {},
   "source": [
    "### Write you answer here \n",
    "\n",
    "It almost matches the previous KDE value."
   ]
  },
  {
   "cell_type": "markdown",
   "metadata": {},
   "source": [
    "### 5. Simulating Users Completing the Training\n",
    "\n",
    "\n",
    "* Using the gamma distribution and the parameter $a$ determined above, simulate the number of months it takes users to finish the training. To simulate the number of months a user may have remained unrolled before completing the training we simply sample from the gamma using the parameter $a$ identified above.\n",
    "\n",
    "* E.g., for $a = 5$, you can use: \n",
    "\n",
    "```python \n",
    "    scale =4\n",
    "    nb_users = 1\n",
    "    stats.gamma(1, months_paid_before_completion).rvs(nb_users)\n",
    "    array([ 5.112342])\n",
    "    \n",
    "```\n",
    "\n",
    "* According to the value above, the simulated student stayed on for 5.1 months before quitting \n",
    "  * Change the value of `nb_users` to simulate multiple users\n",
    "\n",
    "* Since users pay monthly, round up the values to the nearest integer\n",
    "  * I.e., compute the ceiling using `np.ceil`\n",
    "\n",
    "* Simulate the number of months enrolled for all users in `nb_enrollees_finish`  \n",
    " * Save the values to a variable called `months_paid_before_finishing`"
   ]
  },
  {
   "cell_type": "code",
   "execution_count": 18,
   "metadata": {},
   "outputs": [
    {
     "data": {
      "text/plain": [
       "array([10., 10.,  7., ..., 10.,  9.,  6.])"
      ]
     },
     "execution_count": 18,
     "metadata": {},
     "output_type": "execute_result"
    }
   ],
   "source": [
    "# Write your code here \n",
    "\n",
    "months_paid_before_completion = 9\n",
    "months_paid_before_finishing = np.ceil(stats.gamma(months_paid_before_completion).rvs(nb_enrollees_finish))\n",
    "months_paid_before_finishing"
   ]
  },
  {
   "cell_type": "markdown",
   "metadata": {},
   "source": [
    "### 6. Simulating Revenue for a Single Iteration\n",
    "\n",
    "* Compute the total revenue for this iteration as the total number of months paid by users who completed the training and those who quit, times the monthly fee.\n",
    "  * The total number of months of enrollement for users who completed the training is saved in `months_paid_before_finishing`\n",
    "  * The total number of months of enrollement for users who did not complete the training is saved in `months_paid_before_quitting`\n",
    "  * The monthly fee is 39.99\n",
    "\n"
   ]
  },
  {
   "cell_type": "code",
   "execution_count": 19,
   "metadata": {},
   "outputs": [
    {
     "data": {
      "text/plain": [
       "33226931.19"
      ]
     },
     "execution_count": 19,
     "metadata": {},
     "output_type": "execute_result"
    }
   ],
   "source": [
    "# Write you code here\n",
    "\n",
    "total_revenue = (sum(months_paid_before_finishing) + sum(months_paid_before_quitting)) * 39.99\n",
    "total_revenue"
   ]
  },
  {
   "cell_type": "markdown",
   "metadata": {},
   "source": [
    "### Build a 95% Confidence Interval for the Revenue\n",
    "\n",
    "* Repeat the simulation above 5000 times to build a confidence interval. The steps you'll need to repeat are those described in text cells with the following headers:\n",
    "    \n",
    "  1. Generating the Number of Enrollees\n",
    "  2. Generating a Radom Quitting Probability \n",
    "  3. Simulating the Number for People Who Quit and Those Who Complete the Training \n",
    "  4. Simulating Users Unenrolling from the Training\n",
    "  5. Simulating Users Completing the Training\n",
    "  6. Simulating Revenue for a Single Iteration\n",
    "\n",
    "\n",
    "    \n",
    "* The computation may take a few minutes to complete"
   ]
  },
  {
   "cell_type": "code",
   "execution_count": 20,
   "metadata": {
    "tags": []
   },
   "outputs": [
    {
     "name": "stdout",
     "output_type": "stream",
     "text": [
      "95 %confidence interval generated for revenue:  [34612434.7275  37564387.55475]\n"
     ]
    }
   ],
   "source": [
    "# Write you code here\n",
    "\n",
    "simulation_array = np.zeros((5000,))\n",
    "for x in range(5000):\n",
    "    \n",
    "    # get number of enrollees\n",
    "    percent_increase = np.random.normal(0.13, 0.014)\n",
    "    nb_enrollees = int(90316 * (1 + percent_increase))\n",
    "    \n",
    "    # sample a random quit prop\n",
    "    quit_prop = np.random.uniform(quit_prop_conf_int[0], quit_prop_conf_int[1])\n",
    "    \n",
    "    # get number of enrollees who quit\n",
    "    nb_enrollees_quit = int(quit_prop * nb_enrollees)\n",
    "    \n",
    "    # get number of enrollees who finish\n",
    "    nb_enrollees_finish = int((1 - quit_prop) * nb_enrollees)\n",
    "\n",
    "    # compute # months payed before quitting\n",
    "    months_paid_before_quitting = np.ceil(stats.expon(1, 6).rvs(nb_enrollees_quit))\n",
    "    \n",
    "    # compute # months payed before finishing\n",
    "    months_paid_before_finishing = np.ceil(stats.gamma(1, months_paid_before_completion).rvs(nb_enrollees_finish))\n",
    "    \n",
    "    # compute the revenue and add value to some array\n",
    "    simulation_array[x] = (sum(months_paid_before_finishing) + sum(months_paid_before_quitting)) * 39.99\n",
    "\n",
    "\n",
    "conf_interval = np.percentile(simulation_array, (2.5, 97.5) ) \n",
    "print(\"95 %confidence interval generated for revenue: \", conf_interval)"
   ]
  },
  {
   "cell_type": "markdown",
   "metadata": {},
   "source": [
    "### Taking into account gender differences \n",
    "\n",
    "* Repeat the analysis above while taking into consideration the differences between males and females. To do so, you'll need two additional parameters:\n",
    "\n",
    "  * the proportion of males/females in the population of enrollees who quit the training, call it `male_female_prop_quit`\n",
    "     * This is the parameter that you'll use to decide whether the person who unenrolls is a Male or Female\n",
    "\n",
    "  * The proportion of males to females in the population of enrollees who complete the training, call it `male_female_prop_finish`\n",
    "    * This is the parameter that you'll use to decide whether the person who unenrolls is a man or a woman.\n",
    "\n",
    "* Rather than having a single parameter `scale` for the inverse decay of the exponential distribution, you will now have two parameters, one for males and a second for females\n",
    "* Rather than having a single shape parameter $a$ for gamma distribution, you will now have two parameters, one for males and a second for females\n",
    "\n"
   ]
  },
  {
   "cell_type": "code",
   "execution_count": 21,
   "metadata": {
    "tags": []
   },
   "outputs": [
    {
     "name": "stdout",
     "output_type": "stream",
     "text": [
      "male_prop_quit: 0.647131690231088\n",
      "male_prop_finish: 0.5523372457622028\n",
      "female_prop_quit: 0.35286830976891204\n",
      "female_prop_finish: 0.44766275423779717\n"
     ]
    },
    {
     "name": "stderr",
     "output_type": "stream",
     "text": [
      "/var/folders/65/zjdkrmxs3qnd_z9_8zt_vpr80000gn/T/ipykernel_30656/1765082343.py:3: UserWarning: Boolean Series key will be reindexed to match DataFrame index.\n",
      "  male_prop_quit = len(sample_users[sample_users['gender']=='M'][sample_users['status']=='Q']) / len(sample_users[sample_users['status'] == 'Q'])\n",
      "/var/folders/65/zjdkrmxs3qnd_z9_8zt_vpr80000gn/T/ipykernel_30656/1765082343.py:4: UserWarning: Boolean Series key will be reindexed to match DataFrame index.\n",
      "  male_prop_finish = len(sample_users[sample_users['gender']=='M'][sample_users['status']=='C']) / len(sample_users[sample_users['status'] == 'C'])\n",
      "/var/folders/65/zjdkrmxs3qnd_z9_8zt_vpr80000gn/T/ipykernel_30656/1765082343.py:5: UserWarning: Boolean Series key will be reindexed to match DataFrame index.\n",
      "  female_prop_quit = len(sample_users[sample_users['gender']=='F'][sample_users['status']=='Q']) / len(sample_users[sample_users['status'] == 'Q'])\n",
      "/var/folders/65/zjdkrmxs3qnd_z9_8zt_vpr80000gn/T/ipykernel_30656/1765082343.py:6: UserWarning: Boolean Series key will be reindexed to match DataFrame index.\n",
      "  female_prop_finish = len(sample_users[sample_users['gender']=='F'][sample_users['status']=='C']) / len(sample_users[sample_users['status'] == 'C'])\n"
     ]
    }
   ],
   "source": [
    "# Write you code here \n",
    "\n",
    "male_prop_quit = len(sample_users[sample_users['gender']=='M'][sample_users['status']=='Q']) / len(sample_users[sample_users['status'] == 'Q'])\n",
    "male_prop_finish = len(sample_users[sample_users['gender']=='M'][sample_users['status']=='C']) / len(sample_users[sample_users['status'] == 'C'])\n",
    "female_prop_quit = len(sample_users[sample_users['gender']=='F'][sample_users['status']=='Q']) / len(sample_users[sample_users['status'] == 'Q'])\n",
    "female_prop_finish = len(sample_users[sample_users['gender']=='F'][sample_users['status']=='C']) / len(sample_users[sample_users['status'] == 'C'])\n",
    "print('male_prop_quit:',male_prop_quit)\n",
    "print('male_prop_finish:',male_prop_finish)\n",
    "print('female_prop_quit:',female_prop_quit)\n",
    "print('female_prop_finish:',female_prop_finish)"
   ]
  },
  {
   "cell_type": "code",
   "execution_count": 22,
   "metadata": {},
   "outputs": [
    {
     "data": {
      "text/plain": [
       "array([1.57731959, 2.13479624])"
      ]
     },
     "execution_count": 22,
     "metadata": {},
     "output_type": "execute_result"
    }
   ],
   "source": [
    "users_quit = sample_users[sample_users['status'] == 'Q']\n",
    "male_female_prop_quit = []\n",
    "\n",
    "for i in range(5000):\n",
    "    sample_mf = users_quit.sample(1000, replace = True)\n",
    "    num_males = sample_mf[sample_mf['gender'] == 'M'].shape[0]\n",
    "    num_females = sample_mf[sample_mf['gender'] == 'F'].shape[0]\n",
    "    \n",
    "    male_female_prop_quit.append(num_males/num_females)\n",
    "\n",
    "quit_male_female = np.percentile(male_female_prop_quit, (1,99))\n",
    "quit_male_female"
   ]
  },
  {
   "cell_type": "code",
   "execution_count": 23,
   "metadata": {},
   "outputs": [
    {
     "data": {
      "text/plain": [
       "array([1.05761317, 1.43309002])"
      ]
     },
     "execution_count": 23,
     "metadata": {},
     "output_type": "execute_result"
    }
   ],
   "source": [
    "users_comp = sample_users[sample_users['status'] == 'C']\n",
    "male_female_prop_finish = []\n",
    "\n",
    "for i in range(5000):\n",
    "    sample_mf = users_comp.sample(1000, replace = True)\n",
    "    num_males = sample_mf[sample_mf['gender'] == 'M'].shape[0]\n",
    "    num_females = sample_mf[sample_mf['gender'] == 'F'].shape[0]\n",
    "    \n",
    "    male_female_prop_finish.append(num_males/num_females)\n",
    "\n",
    "comp_male_female = np.percentile(male_female_prop_finish, (1,99))\n",
    "comp_male_female"
   ]
  },
  {
   "cell_type": "code",
   "execution_count": 24,
   "metadata": {},
   "outputs": [
    {
     "name": "stderr",
     "output_type": "stream",
     "text": [
      "/var/folders/65/zjdkrmxs3qnd_z9_8zt_vpr80000gn/T/ipykernel_30656/2606668173.py:1: UserWarning: Boolean Series key will be reindexed to match DataFrame index.\n",
      "  mem_q_male = users_quit[sample_users['gender'] == 'M']['mem_duration']\n",
      "/var/folders/65/zjdkrmxs3qnd_z9_8zt_vpr80000gn/T/ipykernel_30656/2606668173.py:2: UserWarning: Boolean Series key will be reindexed to match DataFrame index.\n",
      "  mem_q_female= users_quit[sample_users['gender'] == 'F']['mem_duration']\n"
     ]
    }
   ],
   "source": [
    "mem_q_male = users_quit[sample_users['gender'] == 'M']['mem_duration']\n",
    "mem_q_female= users_quit[sample_users['gender'] == 'F']['mem_duration']\n",
    "\n",
    "like_male = []\n",
    "like_female = []\n",
    "    \n",
    "for i in range(50):\n",
    "    logml_male = sum(stats.expon(loc=1,scale=i+1).logpdf(mem_q_male))\n",
    "    logml_female = sum(stats.expon(loc=1,scale=i+1).logpdf(mem_q_female))\n",
    "    like_male.append(logml_male)\n",
    "    like_female.append(logml_female)"
   ]
  },
  {
   "cell_type": "code",
   "execution_count": 25,
   "metadata": {},
   "outputs": [
    {
     "data": {
      "text/plain": [
       "([<matplotlib.axis.XTick at 0x7ff4f3813700>,\n",
       "  <matplotlib.axis.XTick at 0x7ff500f6bf70>,\n",
       "  <matplotlib.axis.XTick at 0x7ff500ea1370>,\n",
       "  <matplotlib.axis.XTick at 0x7ff502b55f40>,\n",
       "  <matplotlib.axis.XTick at 0x7ff4f3a1e6d0>,\n",
       "  <matplotlib.axis.XTick at 0x7ff4f3a1ee20>,\n",
       "  <matplotlib.axis.XTick at 0x7ff4f3a245e0>,\n",
       "  <matplotlib.axis.XTick at 0x7ff4f3a24d30>,\n",
       "  <matplotlib.axis.XTick at 0x7ff4f3a284c0>,\n",
       "  <matplotlib.axis.XTick at 0x7ff4f3a249d0>,\n",
       "  <matplotlib.axis.XTick at 0x7ff4f3a1e8e0>,\n",
       "  <matplotlib.axis.XTick at 0x7ff4f3a28b80>,\n",
       "  <matplotlib.axis.XTick at 0x7ff4f3a2d310>,\n",
       "  <matplotlib.axis.XTick at 0x7ff4f3a2da60>,\n",
       "  <matplotlib.axis.XTick at 0x7ff4f3a331f0>,\n",
       "  <matplotlib.axis.XTick at 0x7ff4f3a33940>,\n",
       "  <matplotlib.axis.XTick at 0x7ff4f3a2d700>,\n",
       "  <matplotlib.axis.XTick at 0x7ff4f3a1e9d0>,\n",
       "  <matplotlib.axis.XTick at 0x7ff4f3a33250>,\n",
       "  <matplotlib.axis.XTick at 0x7ff4f3a3b4f0>,\n",
       "  <matplotlib.axis.XTick at 0x7ff4f3a3bc40>,\n",
       "  <matplotlib.axis.XTick at 0x7ff4f3a413d0>,\n",
       "  <matplotlib.axis.XTick at 0x7ff4f3a41b20>,\n",
       "  <matplotlib.axis.XTick at 0x7ff4f3a3b520>,\n",
       "  <matplotlib.axis.XTick at 0x7ff4f3a33220>,\n",
       "  <matplotlib.axis.XTick at 0x7ff502b40b50>,\n",
       "  <matplotlib.axis.XTick at 0x7ff500ea1910>,\n",
       "  <matplotlib.axis.XTick at 0x7ff4f3a41ee0>,\n",
       "  <matplotlib.axis.XTick at 0x7ff4f3a48670>,\n",
       "  <matplotlib.axis.XTick at 0x7ff4f3a41eb0>,\n",
       "  <matplotlib.axis.XTick at 0x7ff4f3a330a0>,\n",
       "  <matplotlib.axis.XTick at 0x7ff4f3a48850>,\n",
       "  <matplotlib.axis.XTick at 0x7ff4f3a50310>,\n",
       "  <matplotlib.axis.XTick at 0x7ff4f3a50a60>,\n",
       "  <matplotlib.axis.XTick at 0x7ff4f3a511f0>,\n",
       "  <matplotlib.axis.XTick at 0x7ff4f3a51940>,\n",
       "  <matplotlib.axis.XTick at 0x7ff4f3a50ac0>,\n",
       "  <matplotlib.axis.XTick at 0x7ff4f3a33ca0>,\n",
       "  <matplotlib.axis.XTick at 0x7ff4f3a51190>,\n",
       "  <matplotlib.axis.XTick at 0x7ff4f3a5f5e0>,\n",
       "  <matplotlib.axis.XTick at 0x7ff4f3a5fd30>,\n",
       "  <matplotlib.axis.XTick at 0x7ff4f3a634c0>,\n",
       "  <matplotlib.axis.XTick at 0x7ff4f3a63c10>,\n",
       "  <matplotlib.axis.XTick at 0x7ff4f3a63520>,\n",
       "  <matplotlib.axis.XTick at 0x7ff4f3a5f1c0>,\n",
       "  <matplotlib.axis.XTick at 0x7ff4f3a68130>,\n",
       "  <matplotlib.axis.XTick at 0x7ff4f3a687c0>,\n",
       "  <matplotlib.axis.XTick at 0x7ff4f3a68f10>,\n",
       "  <matplotlib.axis.XTick at 0x7ff4f3a736a0>,\n",
       "  <matplotlib.axis.XTick at 0x7ff4f3a73df0>,\n",
       "  <matplotlib.axis.XTick at 0x7ff4f3a73220>],\n",
       " [Text(0, 0, ''),\n",
       "  Text(0, 0, ''),\n",
       "  Text(0, 0, ''),\n",
       "  Text(0, 0, ''),\n",
       "  Text(0, 0, ''),\n",
       "  Text(0, 0, ''),\n",
       "  Text(0, 0, ''),\n",
       "  Text(0, 0, ''),\n",
       "  Text(0, 0, ''),\n",
       "  Text(0, 0, ''),\n",
       "  Text(0, 0, ''),\n",
       "  Text(0, 0, ''),\n",
       "  Text(0, 0, ''),\n",
       "  Text(0, 0, ''),\n",
       "  Text(0, 0, ''),\n",
       "  Text(0, 0, ''),\n",
       "  Text(0, 0, ''),\n",
       "  Text(0, 0, ''),\n",
       "  Text(0, 0, ''),\n",
       "  Text(0, 0, ''),\n",
       "  Text(0, 0, ''),\n",
       "  Text(0, 0, ''),\n",
       "  Text(0, 0, ''),\n",
       "  Text(0, 0, ''),\n",
       "  Text(0, 0, ''),\n",
       "  Text(0, 0, ''),\n",
       "  Text(0, 0, ''),\n",
       "  Text(0, 0, ''),\n",
       "  Text(0, 0, ''),\n",
       "  Text(0, 0, ''),\n",
       "  Text(0, 0, ''),\n",
       "  Text(0, 0, ''),\n",
       "  Text(0, 0, ''),\n",
       "  Text(0, 0, ''),\n",
       "  Text(0, 0, ''),\n",
       "  Text(0, 0, ''),\n",
       "  Text(0, 0, ''),\n",
       "  Text(0, 0, ''),\n",
       "  Text(0, 0, ''),\n",
       "  Text(0, 0, ''),\n",
       "  Text(0, 0, ''),\n",
       "  Text(0, 0, ''),\n",
       "  Text(0, 0, ''),\n",
       "  Text(0, 0, ''),\n",
       "  Text(0, 0, ''),\n",
       "  Text(0, 0, ''),\n",
       "  Text(0, 0, ''),\n",
       "  Text(0, 0, ''),\n",
       "  Text(0, 0, ''),\n",
       "  Text(0, 0, ''),\n",
       "  Text(0, 0, '')])"
      ]
     },
     "execution_count": 25,
     "metadata": {},
     "output_type": "execute_result"
    },
    {
     "data": {
      "image/png": "[encoded data removed]",
      "text/plain": [
       "<Figure size 1080x288 with 1 Axes>"
      ]
     },
     "metadata": {
      "needs_background": "light"
     },
     "output_type": "display_data"
    }
   ],
   "source": [
    "plt.figure(figsize=(15,4))\n",
    "x = range(1,51)\n",
    "plt.plot(x, like_male, label = 'male')\n",
    "plt.plot(x, like_female, label = 'female')\n",
    "\n",
    "xmax_expon_male = np.argmax(like_male)\n",
    "xmax_expon_female = np.argmax(like_female)\n",
    "ymax_male = max(like_male)\n",
    "ymax_female = max(like_female)\n",
    "plt.plot(xmax_expon_male, ymax_male, 'ro')\n",
    "plt.plot(xmax_expon_female, ymax_female, 'ro')\n",
    "plt.xticks(np.arange(0, 51,step=1))"
   ]
  },
  {
   "cell_type": "code",
   "execution_count": 26,
   "metadata": {},
   "outputs": [
    {
     "data": {
      "text/plain": [
       "([<matplotlib.axis.XTick at 0x7ff501ab6ac0>,\n",
       "  <matplotlib.axis.XTick at 0x7ff501ab6820>,\n",
       "  <matplotlib.axis.XTick at 0x7ff501aa4d90>,\n",
       "  <matplotlib.axis.XTick at 0x7ff501adfac0>,\n",
       "  <matplotlib.axis.XTick at 0x7ff501975250>,\n",
       "  <matplotlib.axis.XTick at 0x7ff5019759a0>,\n",
       "  <matplotlib.axis.XTick at 0x7ff50197d130>,\n",
       "  <matplotlib.axis.XTick at 0x7ff50197d880>,\n",
       "  <matplotlib.axis.XTick at 0x7ff501975640>,\n",
       "  <matplotlib.axis.XTick at 0x7ff50197d8e0>,\n",
       "  <matplotlib.axis.XTick at 0x7ff501983160>,\n",
       "  <matplotlib.axis.XTick at 0x7ff5019837f0>,\n",
       "  <matplotlib.axis.XTick at 0x7ff501983f40>,\n",
       "  <matplotlib.axis.XTick at 0x7ff5019896d0>,\n",
       "  <matplotlib.axis.XTick at 0x7ff501989e20>,\n",
       "  <matplotlib.axis.XTick at 0x7ff5019893a0>,\n",
       "  <matplotlib.axis.XTick at 0x7ff50197d0d0>,\n",
       "  <matplotlib.axis.XTick at 0x7ff50198e280>,\n",
       "  <matplotlib.axis.XTick at 0x7ff50198e9d0>,\n",
       "  <matplotlib.axis.XTick at 0x7ff501996160>,\n",
       "  <matplotlib.axis.XTick at 0x7ff5019968b0>,\n",
       "  <matplotlib.axis.XTick at 0x7ff501996b80>,\n",
       "  <matplotlib.axis.XTick at 0x7ff50198ea00>,\n",
       "  <matplotlib.axis.XTick at 0x7ff501983ac0>,\n",
       "  <matplotlib.axis.XTick at 0x7ff50199d550>,\n",
       "  <matplotlib.axis.XTick at 0x7ff50199dca0>],\n",
       " [Text(0, 0, ''),\n",
       "  Text(0, 0, ''),\n",
       "  Text(0, 0, ''),\n",
       "  Text(0, 0, ''),\n",
       "  Text(0, 0, ''),\n",
       "  Text(0, 0, ''),\n",
       "  Text(0, 0, ''),\n",
       "  Text(0, 0, ''),\n",
       "  Text(0, 0, ''),\n",
       "  Text(0, 0, ''),\n",
       "  Text(0, 0, ''),\n",
       "  Text(0, 0, ''),\n",
       "  Text(0, 0, ''),\n",
       "  Text(0, 0, ''),\n",
       "  Text(0, 0, ''),\n",
       "  Text(0, 0, ''),\n",
       "  Text(0, 0, ''),\n",
       "  Text(0, 0, ''),\n",
       "  Text(0, 0, ''),\n",
       "  Text(0, 0, ''),\n",
       "  Text(0, 0, ''),\n",
       "  Text(0, 0, ''),\n",
       "  Text(0, 0, ''),\n",
       "  Text(0, 0, ''),\n",
       "  Text(0, 0, ''),\n",
       "  Text(0, 0, '')])"
      ]
     },
     "execution_count": 26,
     "metadata": {},
     "output_type": "execute_result"
    },
    {
     "data": {
      "image/png": "[encoded data removed]",
      "text/plain": [
       "<Figure size 1080x288 with 1 Axes>"
      ]
     },
     "metadata": {
      "needs_background": "light"
     },
     "output_type": "display_data"
    }
   ],
   "source": [
    "mem_completed_male = sample_users.loc[sample_users['gender'] == 'M'].loc[sample_users['status'] == 'C']['mem_duration']\n",
    "mem_completed_female = sample_users.loc[sample_users['gender'] == 'F'].loc[sample_users['status'] == 'C']['mem_duration']\n",
    "logml_male = []\n",
    "logml_female = []\n",
    "for i in range(25):\n",
    "    val_male = sum(stats.gamma(i+1).logpdf(mem_completed_male))\n",
    "    logml_male.append(val_male)\n",
    "    val_female = sum(stats.gamma(i+1).logpdf(mem_completed_female))\n",
    "    logml_female.append(val_female)\n",
    "    \n",
    "plt.figure(figsize=(15,4))\n",
    "x = range(1,26)\n",
    "plt.plot(x, logml_male, label = 'male')\n",
    "plt.plot(x, logml_female, label = 'female')\n",
    "\n",
    "xmax_gamma_male = np.argmax(logml_male)\n",
    "xmax_gamma_female = np.argmax(logml_female)\n",
    "ymax_male = max(logml_male)\n",
    "ymax_female = max(logml_female)\n",
    "plt.plot(xmax_gamma_male, ymax_male, 'ro')\n",
    "plt.plot(xmax_gamma_female, ymax_female, 'ro')\n",
    "plt.xticks(np.arange(0, 26,step=1))"
   ]
  },
  {
   "cell_type": "code",
   "execution_count": 27,
   "metadata": {},
   "outputs": [
    {
     "name": "stdout",
     "output_type": "stream",
     "text": [
      "95% confidence interval for total revenue:  [31397424.681      34563787.89225001]\n",
      "95% confidence interval for male revenue:  [18884353.731 21409146.375]\n",
      "95% confidence interval for female revenue:  [11656201.221 14148917.886]\n"
     ]
    }
   ],
   "source": [
    "total_revenue = []\n",
    "male_revenue = []\n",
    "female_revenue = []\n",
    "\n",
    "for i in range(5000):\n",
    "    \n",
    "    percentage_increase = np.random.normal(0.13, 0.014) \n",
    "    nb_enrollees = int(90316 * (1 + percentage_increase)) \n",
    "    \n",
    "    quit_prop = np.random.uniform(quit_prop_conf_int[0], quit_prop_conf_int[1])\n",
    "    \n",
    "    mf_quit_ratio = np.random.uniform(quit_male_female[0], quit_male_female[1])\n",
    "    mf_comp_ratio = np.random.uniform(comp_male_female[0], comp_male_female[1])\n",
    "    \n",
    "    nb_enrollees_quit = int(quit_prop * nb_enrollees)\n",
    "    nb_enrollees_finish = int((1 - quit_prop) * nb_enrollees)\n",
    "    \n",
    "    nb_quit_male = int(nb_enrollees_quit * (mf_quit_ratio / (mf_quit_ratio + 1)))\n",
    "    nb_quit_female = nb_enrollees_quit - nb_quit_male\n",
    "    \n",
    "    nb_finish_male = int(nb_enrollees_finish * (mf_comp_ratio / (mf_comp_ratio + 1)))\n",
    "    nb_finish_female = nb_enrollees_finish - nb_finish_male\n",
    "    \n",
    "    months_paid_before_quitting_male = np.ceil(stats.expon(1, xmax_expon_male).rvs(nb_quit_male))\n",
    "    months_paid_before_quitting_female = np.ceil(stats.expon(1, xmax_expon_female).rvs(nb_quit_female))\n",
    "    \n",
    "    months_paid_before_finish_male = np.ceil(stats.gamma(1, xmax_gamma_male).rvs(nb_finish_male))\n",
    "    months_paid_before_finish_female = np.ceil(stats.gamma(1, xmax_gamma_female).rvs(nb_finish_female))\n",
    "\n",
    "    rev_male = np.sum(np.sum(months_paid_before_quitting_male) + np.sum(months_paid_before_finish_male)) * 39.99\n",
    "    rev_female = np.sum(np.sum(months_paid_before_quitting_female) + np.sum(months_paid_before_finish_female))  * 39.99\n",
    "    rev_tot = rev_male + rev_female\n",
    "    total_revenue.append(rev_tot)\n",
    "    male_revenue.append(rev_male)\n",
    "    female_revenue.append(rev_female)\n",
    "\n",
    "conf95_tot = np.percentile(total_revenue, (2.5, 97.5))\n",
    "conf95_male = np.percentile(male_revenue, (2.5, 97.5))\n",
    "conf95_female = np.percentile(female_revenue, (2.5, 97.5))\n",
    "\n",
    "print(\"95% confidence interval for total revenue: \", conf95_tot)\n",
    "print(\"95% confidence interval for male revenue: \", conf95_male)\n",
    "print(\"95% confidence interval for female revenue: \", conf95_female)"
   ]
  },
  {
   "cell_type": "markdown",
   "metadata": {},
   "source": [
    "### Conclusion\n",
    "\n",
    "\n",
    "* Which do you think is the most accurate model, the one that takes into account the gender differences of the one that does not? Justify your answer.\n",
    "\n",
    "\n"
   ]
  },
  {
   "cell_type": "markdown",
   "metadata": {},
   "source": [
    "### Answer\n",
    "\n",
    "Both are giving almost same results but I think the one which considers gender differences is a better model so as to clearly understand and differentiate how each gender participate in the training and affects the study."
   ]
  },
  {
   "cell_type": "markdown",
   "metadata": {},
   "source": [
    "# PROBLEM 2\n",
    "----"
   ]
  },
  {
   "cell_type": "markdown",
   "metadata": {},
   "source": [
    "###  Average Medicare Payment and Hypothesis Testing \n",
    "\n",
    "* We have access to the average Medicare payment made by the Federal government to over 6,000 hospitals nationwide. Medicare payments are categorized according to `DRG Definitions`, which are diagnostic categories that describe the service provided. For instance, the average Medicare payment at  THE QUEENS MEDICAL CENTER for the diagnostic category \"917 - POISONING & TOXIC EFFECTS OF DRUGS W MCC\" was $15,305.21.\n",
    "\n",
    "* We are interested in comparing the average payment across states to see if they are similar or not, regardless of diagnostic category. Naturally, by different, we are interested in seeing whether the difference is statistically significant.\n",
    "\n",
    "\n"
   ]
  },
  {
   "cell_type": "markdown",
   "metadata": {
    "slideshow": {
     "slide_type": "slide"
    }
   },
   "source": [
    "\n",
    "### Loading  the data\n",
    "* The data is stored in `hospital_charge_data.csv` available at the following [URL](https://www.dropbox.com/s/zqf56enddz6mhlf/hospital_charge_data.csv?dl=1)\n",
    "\n",
    "\n",
    "* Load the data into a variable called `payment_data`\n",
    "  * Select only the columns `['DRG Definition', \"Provider Name\", 'Provider State', 'Average Medicare Payments']`\n",
    "  * Rename these columns as `['diagnostic', 'name', 'state', 'avg_medicare_payment']`\n",
    "\n"
   ]
  },
  {
   "cell_type": "code",
   "execution_count": 28,
   "metadata": {
    "slideshow": {
     "slide_type": "slide"
    }
   },
   "outputs": [
    {
     "data": {
      "text/html": [
       "<div>\n",
       "<style scoped>\n",
       "    .dataframe tbody tr th:only-of-type {\n",
       "        vertical-align: middle;\n",
       "    }\n",
       "\n",
       "    .dataframe tbody tr th {\n",
       "        vertical-align: top;\n",
       "    }\n",
       "\n",
       "    .dataframe thead th {\n",
       "        text-align: right;\n",
       "    }\n",
       "</style>\n",
       "<table border=\"1\" class=\"dataframe\">\n",
       "  <thead>\n",
       "    <tr style=\"text-align: right;\">\n",
       "      <th></th>\n",
       "      <th>DRG Definition</th>\n",
       "      <th>Provider Id</th>\n",
       "      <th>Provider Name</th>\n",
       "      <th>Provider Street Address</th>\n",
       "      <th>Provider City</th>\n",
       "      <th>Provider State</th>\n",
       "      <th>Provider Zip Code</th>\n",
       "      <th>Hospital Referral Region Description</th>\n",
       "      <th>Total Discharges</th>\n",
       "      <th>Average Covered Charges</th>\n",
       "      <th>Average Total Payments</th>\n",
       "      <th>Average Medicare Payments</th>\n",
       "    </tr>\n",
       "  </thead>\n",
       "  <tbody>\n",
       "    <tr>\n",
       "      <th>0</th>\n",
       "      <td>039 - EXTRACRANIAL PROCEDURES W/O CC/MCC</td>\n",
       "      <td>10001</td>\n",
       "      <td>SOUTHEAST ALABAMA MEDICAL CENTER</td>\n",
       "      <td>1108 ROSS CLARK CIRCLE</td>\n",
       "      <td>DOTHAN</td>\n",
       "      <td>AL</td>\n",
       "      <td>36301</td>\n",
       "      <td>AL - Dothan</td>\n",
       "      <td>91</td>\n",
       "      <td>32963.07</td>\n",
       "      <td>5777.24</td>\n",
       "      <td>4763.73</td>\n",
       "    </tr>\n",
       "    <tr>\n",
       "      <th>1</th>\n",
       "      <td>039 - EXTRACRANIAL PROCEDURES W/O CC/MCC</td>\n",
       "      <td>10005</td>\n",
       "      <td>MARSHALL MEDICAL CENTER SOUTH</td>\n",
       "      <td>2505 U S HIGHWAY 431 NORTH</td>\n",
       "      <td>BOAZ</td>\n",
       "      <td>AL</td>\n",
       "      <td>35957</td>\n",
       "      <td>AL - Birmingham</td>\n",
       "      <td>14</td>\n",
       "      <td>15131.85</td>\n",
       "      <td>5787.57</td>\n",
       "      <td>4976.71</td>\n",
       "    </tr>\n",
       "    <tr>\n",
       "      <th>2</th>\n",
       "      <td>039 - EXTRACRANIAL PROCEDURES W/O CC/MCC</td>\n",
       "      <td>10006</td>\n",
       "      <td>ELIZA COFFEE MEMORIAL HOSPITAL</td>\n",
       "      <td>205 MARENGO STREET</td>\n",
       "      <td>FLORENCE</td>\n",
       "      <td>AL</td>\n",
       "      <td>35631</td>\n",
       "      <td>AL - Birmingham</td>\n",
       "      <td>24</td>\n",
       "      <td>37560.37</td>\n",
       "      <td>5434.95</td>\n",
       "      <td>4453.79</td>\n",
       "    </tr>\n",
       "    <tr>\n",
       "      <th>3</th>\n",
       "      <td>039 - EXTRACRANIAL PROCEDURES W/O CC/MCC</td>\n",
       "      <td>10011</td>\n",
       "      <td>ST VINCENT'S EAST</td>\n",
       "      <td>50 MEDICAL PARK EAST DRIVE</td>\n",
       "      <td>BIRMINGHAM</td>\n",
       "      <td>AL</td>\n",
       "      <td>35235</td>\n",
       "      <td>AL - Birmingham</td>\n",
       "      <td>25</td>\n",
       "      <td>13998.28</td>\n",
       "      <td>5417.56</td>\n",
       "      <td>4129.16</td>\n",
       "    </tr>\n",
       "    <tr>\n",
       "      <th>4</th>\n",
       "      <td>039 - EXTRACRANIAL PROCEDURES W/O CC/MCC</td>\n",
       "      <td>10016</td>\n",
       "      <td>SHELBY BAPTIST MEDICAL CENTER</td>\n",
       "      <td>1000 FIRST STREET NORTH</td>\n",
       "      <td>ALABASTER</td>\n",
       "      <td>AL</td>\n",
       "      <td>35007</td>\n",
       "      <td>AL - Birmingham</td>\n",
       "      <td>18</td>\n",
       "      <td>31633.27</td>\n",
       "      <td>5658.33</td>\n",
       "      <td>4851.44</td>\n",
       "    </tr>\n",
       "    <tr>\n",
       "      <th>...</th>\n",
       "      <td>...</td>\n",
       "      <td>...</td>\n",
       "      <td>...</td>\n",
       "      <td>...</td>\n",
       "      <td>...</td>\n",
       "      <td>...</td>\n",
       "      <td>...</td>\n",
       "      <td>...</td>\n",
       "      <td>...</td>\n",
       "      <td>...</td>\n",
       "      <td>...</td>\n",
       "      <td>...</td>\n",
       "    </tr>\n",
       "    <tr>\n",
       "      <th>163060</th>\n",
       "      <td>948 - SIGNS &amp; SYMPTOMS W/O MCC</td>\n",
       "      <td>670041</td>\n",
       "      <td>SETON MEDICAL CENTER WILLIAMSON</td>\n",
       "      <td>201 SETON PARKWAY</td>\n",
       "      <td>ROUND ROCK</td>\n",
       "      <td>TX</td>\n",
       "      <td>78664</td>\n",
       "      <td>TX - Austin</td>\n",
       "      <td>23</td>\n",
       "      <td>26314.39</td>\n",
       "      <td>3806.86</td>\n",
       "      <td>3071.39</td>\n",
       "    </tr>\n",
       "    <tr>\n",
       "      <th>163061</th>\n",
       "      <td>948 - SIGNS &amp; SYMPTOMS W/O MCC</td>\n",
       "      <td>670055</td>\n",
       "      <td>METHODIST STONE OAK HOSPITAL</td>\n",
       "      <td>1139 E SONTERRA BLVD</td>\n",
       "      <td>SAN ANTONIO</td>\n",
       "      <td>TX</td>\n",
       "      <td>78258</td>\n",
       "      <td>TX - San Antonio</td>\n",
       "      <td>11</td>\n",
       "      <td>21704.72</td>\n",
       "      <td>4027.36</td>\n",
       "      <td>2649.72</td>\n",
       "    </tr>\n",
       "    <tr>\n",
       "      <th>163062</th>\n",
       "      <td>948 - SIGNS &amp; SYMPTOMS W/O MCC</td>\n",
       "      <td>670056</td>\n",
       "      <td>SETON MEDICAL CENTER HAYS</td>\n",
       "      <td>6001 KYLE PKWY</td>\n",
       "      <td>KYLE</td>\n",
       "      <td>TX</td>\n",
       "      <td>78640</td>\n",
       "      <td>TX - Austin</td>\n",
       "      <td>19</td>\n",
       "      <td>39121.73</td>\n",
       "      <td>5704.36</td>\n",
       "      <td>4058.36</td>\n",
       "    </tr>\n",
       "    <tr>\n",
       "      <th>163063</th>\n",
       "      <td>948 - SIGNS &amp; SYMPTOMS W/O MCC</td>\n",
       "      <td>670060</td>\n",
       "      <td>TEXAS REGIONAL MEDICAL CENTER AT SUNNYVALE</td>\n",
       "      <td>231 SOUTH COLLINS ROAD</td>\n",
       "      <td>SUNNYVALE</td>\n",
       "      <td>TX</td>\n",
       "      <td>75182</td>\n",
       "      <td>TX - Dallas</td>\n",
       "      <td>11</td>\n",
       "      <td>28873.09</td>\n",
       "      <td>7663.09</td>\n",
       "      <td>6848.54</td>\n",
       "    </tr>\n",
       "    <tr>\n",
       "      <th>163064</th>\n",
       "      <td>948 - SIGNS &amp; SYMPTOMS W/O MCC</td>\n",
       "      <td>670068</td>\n",
       "      <td>TEXAS HEALTH PRESBYTERIAN HOSPITAL FLOWER MOUND</td>\n",
       "      <td>4400 LONG PRAIRIE ROAD</td>\n",
       "      <td>FLOWER MOUND</td>\n",
       "      <td>TX</td>\n",
       "      <td>75028</td>\n",
       "      <td>TX - Dallas</td>\n",
       "      <td>12</td>\n",
       "      <td>15042.00</td>\n",
       "      <td>3539.75</td>\n",
       "      <td>2887.41</td>\n",
       "    </tr>\n",
       "  </tbody>\n",
       "</table>\n",
       "<p>163065 rows × 12 columns</p>\n",
       "</div>"
      ],
      "text/plain": [
       "                                  DRG Definition  Provider Id  \\\n",
       "0       039 - EXTRACRANIAL PROCEDURES W/O CC/MCC        10001   \n",
       "1       039 - EXTRACRANIAL PROCEDURES W/O CC/MCC        10005   \n",
       "2       039 - EXTRACRANIAL PROCEDURES W/O CC/MCC        10006   \n",
       "3       039 - EXTRACRANIAL PROCEDURES W/O CC/MCC        10011   \n",
       "4       039 - EXTRACRANIAL PROCEDURES W/O CC/MCC        10016   \n",
       "...                                          ...          ...   \n",
       "163060            948 - SIGNS & SYMPTOMS W/O MCC       670041   \n",
       "163061            948 - SIGNS & SYMPTOMS W/O MCC       670055   \n",
       "163062            948 - SIGNS & SYMPTOMS W/O MCC       670056   \n",
       "163063            948 - SIGNS & SYMPTOMS W/O MCC       670060   \n",
       "163064            948 - SIGNS & SYMPTOMS W/O MCC       670068   \n",
       "\n",
       "                                          Provider Name  \\\n",
       "0                      SOUTHEAST ALABAMA MEDICAL CENTER   \n",
       "1                         MARSHALL MEDICAL CENTER SOUTH   \n",
       "2                        ELIZA COFFEE MEMORIAL HOSPITAL   \n",
       "3                                     ST VINCENT'S EAST   \n",
       "4                         SHELBY BAPTIST MEDICAL CENTER   \n",
       "...                                                 ...   \n",
       "163060                  SETON MEDICAL CENTER WILLIAMSON   \n",
       "163061                     METHODIST STONE OAK HOSPITAL   \n",
       "163062                        SETON MEDICAL CENTER HAYS   \n",
       "163063       TEXAS REGIONAL MEDICAL CENTER AT SUNNYVALE   \n",
       "163064  TEXAS HEALTH PRESBYTERIAN HOSPITAL FLOWER MOUND   \n",
       "\n",
       "           Provider Street Address Provider City Provider State  \\\n",
       "0           1108 ROSS CLARK CIRCLE        DOTHAN             AL   \n",
       "1       2505 U S HIGHWAY 431 NORTH          BOAZ             AL   \n",
       "2               205 MARENGO STREET      FLORENCE             AL   \n",
       "3       50 MEDICAL PARK EAST DRIVE    BIRMINGHAM             AL   \n",
       "4          1000 FIRST STREET NORTH     ALABASTER             AL   \n",
       "...                            ...           ...            ...   \n",
       "163060           201 SETON PARKWAY    ROUND ROCK             TX   \n",
       "163061        1139 E SONTERRA BLVD   SAN ANTONIO             TX   \n",
       "163062              6001 KYLE PKWY          KYLE             TX   \n",
       "163063      231 SOUTH COLLINS ROAD     SUNNYVALE             TX   \n",
       "163064      4400 LONG PRAIRIE ROAD  FLOWER MOUND             TX   \n",
       "\n",
       "        Provider Zip Code Hospital Referral Region Description  \\\n",
       "0                   36301                          AL - Dothan   \n",
       "1                   35957                      AL - Birmingham   \n",
       "2                   35631                      AL - Birmingham   \n",
       "3                   35235                      AL - Birmingham   \n",
       "4                   35007                      AL - Birmingham   \n",
       "...                   ...                                  ...   \n",
       "163060              78664                          TX - Austin   \n",
       "163061              78258                     TX - San Antonio   \n",
       "163062              78640                          TX - Austin   \n",
       "163063              75182                          TX - Dallas   \n",
       "163064              75028                          TX - Dallas   \n",
       "\n",
       "         Total Discharges    Average Covered Charges   \\\n",
       "0                       91                   32963.07   \n",
       "1                       14                   15131.85   \n",
       "2                       24                   37560.37   \n",
       "3                       25                   13998.28   \n",
       "4                       18                   31633.27   \n",
       "...                    ...                        ...   \n",
       "163060                  23                   26314.39   \n",
       "163061                  11                   21704.72   \n",
       "163062                  19                   39121.73   \n",
       "163063                  11                   28873.09   \n",
       "163064                  12                   15042.00   \n",
       "\n",
       "         Average Total Payments   Average Medicare Payments  \n",
       "0                        5777.24                    4763.73  \n",
       "1                        5787.57                    4976.71  \n",
       "2                        5434.95                    4453.79  \n",
       "3                        5417.56                    4129.16  \n",
       "4                        5658.33                    4851.44  \n",
       "...                          ...                        ...  \n",
       "163060                   3806.86                    3071.39  \n",
       "163061                   4027.36                    2649.72  \n",
       "163062                   5704.36                    4058.36  \n",
       "163063                   7663.09                    6848.54  \n",
       "163064                   3539.75                    2887.41  \n",
       "\n",
       "[163065 rows x 12 columns]"
      ]
     },
     "execution_count": 28,
     "metadata": {},
     "output_type": "execute_result"
    }
   ],
   "source": [
    "# Write you code here\n",
    "\n",
    "payment_data = pd.read_csv('/Users/aditijaiswal/Downloads/hospital_charge_data.csv')\n",
    "payment_data"
   ]
  },
  {
   "cell_type": "code",
   "execution_count": 29,
   "metadata": {},
   "outputs": [
    {
     "data": {
      "text/html": [
       "<div>\n",
       "<style scoped>\n",
       "    .dataframe tbody tr th:only-of-type {\n",
       "        vertical-align: middle;\n",
       "    }\n",
       "\n",
       "    .dataframe tbody tr th {\n",
       "        vertical-align: top;\n",
       "    }\n",
       "\n",
       "    .dataframe thead th {\n",
       "        text-align: right;\n",
       "    }\n",
       "</style>\n",
       "<table border=\"1\" class=\"dataframe\">\n",
       "  <thead>\n",
       "    <tr style=\"text-align: right;\">\n",
       "      <th></th>\n",
       "      <th>diagnostic</th>\n",
       "      <th>Provider Id</th>\n",
       "      <th>name</th>\n",
       "      <th>Provider Street Address</th>\n",
       "      <th>Provider City</th>\n",
       "      <th>state</th>\n",
       "      <th>Provider Zip Code</th>\n",
       "      <th>Hospital Referral Region Description</th>\n",
       "      <th>Total Discharges</th>\n",
       "      <th>Average Covered Charges</th>\n",
       "      <th>Average Total Payments</th>\n",
       "      <th>avg_medicare_payment</th>\n",
       "    </tr>\n",
       "  </thead>\n",
       "  <tbody>\n",
       "    <tr>\n",
       "      <th>0</th>\n",
       "      <td>039 - EXTRACRANIAL PROCEDURES W/O CC/MCC</td>\n",
       "      <td>10001</td>\n",
       "      <td>SOUTHEAST ALABAMA MEDICAL CENTER</td>\n",
       "      <td>1108 ROSS CLARK CIRCLE</td>\n",
       "      <td>DOTHAN</td>\n",
       "      <td>AL</td>\n",
       "      <td>36301</td>\n",
       "      <td>AL - Dothan</td>\n",
       "      <td>91</td>\n",
       "      <td>32963.07</td>\n",
       "      <td>5777.24</td>\n",
       "      <td>4763.73</td>\n",
       "    </tr>\n",
       "    <tr>\n",
       "      <th>1</th>\n",
       "      <td>039 - EXTRACRANIAL PROCEDURES W/O CC/MCC</td>\n",
       "      <td>10005</td>\n",
       "      <td>MARSHALL MEDICAL CENTER SOUTH</td>\n",
       "      <td>2505 U S HIGHWAY 431 NORTH</td>\n",
       "      <td>BOAZ</td>\n",
       "      <td>AL</td>\n",
       "      <td>35957</td>\n",
       "      <td>AL - Birmingham</td>\n",
       "      <td>14</td>\n",
       "      <td>15131.85</td>\n",
       "      <td>5787.57</td>\n",
       "      <td>4976.71</td>\n",
       "    </tr>\n",
       "    <tr>\n",
       "      <th>2</th>\n",
       "      <td>039 - EXTRACRANIAL PROCEDURES W/O CC/MCC</td>\n",
       "      <td>10006</td>\n",
       "      <td>ELIZA COFFEE MEMORIAL HOSPITAL</td>\n",
       "      <td>205 MARENGO STREET</td>\n",
       "      <td>FLORENCE</td>\n",
       "      <td>AL</td>\n",
       "      <td>35631</td>\n",
       "      <td>AL - Birmingham</td>\n",
       "      <td>24</td>\n",
       "      <td>37560.37</td>\n",
       "      <td>5434.95</td>\n",
       "      <td>4453.79</td>\n",
       "    </tr>\n",
       "    <tr>\n",
       "      <th>3</th>\n",
       "      <td>039 - EXTRACRANIAL PROCEDURES W/O CC/MCC</td>\n",
       "      <td>10011</td>\n",
       "      <td>ST VINCENT'S EAST</td>\n",
       "      <td>50 MEDICAL PARK EAST DRIVE</td>\n",
       "      <td>BIRMINGHAM</td>\n",
       "      <td>AL</td>\n",
       "      <td>35235</td>\n",
       "      <td>AL - Birmingham</td>\n",
       "      <td>25</td>\n",
       "      <td>13998.28</td>\n",
       "      <td>5417.56</td>\n",
       "      <td>4129.16</td>\n",
       "    </tr>\n",
       "    <tr>\n",
       "      <th>4</th>\n",
       "      <td>039 - EXTRACRANIAL PROCEDURES W/O CC/MCC</td>\n",
       "      <td>10016</td>\n",
       "      <td>SHELBY BAPTIST MEDICAL CENTER</td>\n",
       "      <td>1000 FIRST STREET NORTH</td>\n",
       "      <td>ALABASTER</td>\n",
       "      <td>AL</td>\n",
       "      <td>35007</td>\n",
       "      <td>AL - Birmingham</td>\n",
       "      <td>18</td>\n",
       "      <td>31633.27</td>\n",
       "      <td>5658.33</td>\n",
       "      <td>4851.44</td>\n",
       "    </tr>\n",
       "    <tr>\n",
       "      <th>...</th>\n",
       "      <td>...</td>\n",
       "      <td>...</td>\n",
       "      <td>...</td>\n",
       "      <td>...</td>\n",
       "      <td>...</td>\n",
       "      <td>...</td>\n",
       "      <td>...</td>\n",
       "      <td>...</td>\n",
       "      <td>...</td>\n",
       "      <td>...</td>\n",
       "      <td>...</td>\n",
       "      <td>...</td>\n",
       "    </tr>\n",
       "    <tr>\n",
       "      <th>163060</th>\n",
       "      <td>948 - SIGNS &amp; SYMPTOMS W/O MCC</td>\n",
       "      <td>670041</td>\n",
       "      <td>SETON MEDICAL CENTER WILLIAMSON</td>\n",
       "      <td>201 SETON PARKWAY</td>\n",
       "      <td>ROUND ROCK</td>\n",
       "      <td>TX</td>\n",
       "      <td>78664</td>\n",
       "      <td>TX - Austin</td>\n",
       "      <td>23</td>\n",
       "      <td>26314.39</td>\n",
       "      <td>3806.86</td>\n",
       "      <td>3071.39</td>\n",
       "    </tr>\n",
       "    <tr>\n",
       "      <th>163061</th>\n",
       "      <td>948 - SIGNS &amp; SYMPTOMS W/O MCC</td>\n",
       "      <td>670055</td>\n",
       "      <td>METHODIST STONE OAK HOSPITAL</td>\n",
       "      <td>1139 E SONTERRA BLVD</td>\n",
       "      <td>SAN ANTONIO</td>\n",
       "      <td>TX</td>\n",
       "      <td>78258</td>\n",
       "      <td>TX - San Antonio</td>\n",
       "      <td>11</td>\n",
       "      <td>21704.72</td>\n",
       "      <td>4027.36</td>\n",
       "      <td>2649.72</td>\n",
       "    </tr>\n",
       "    <tr>\n",
       "      <th>163062</th>\n",
       "      <td>948 - SIGNS &amp; SYMPTOMS W/O MCC</td>\n",
       "      <td>670056</td>\n",
       "      <td>SETON MEDICAL CENTER HAYS</td>\n",
       "      <td>6001 KYLE PKWY</td>\n",
       "      <td>KYLE</td>\n",
       "      <td>TX</td>\n",
       "      <td>78640</td>\n",
       "      <td>TX - Austin</td>\n",
       "      <td>19</td>\n",
       "      <td>39121.73</td>\n",
       "      <td>5704.36</td>\n",
       "      <td>4058.36</td>\n",
       "    </tr>\n",
       "    <tr>\n",
       "      <th>163063</th>\n",
       "      <td>948 - SIGNS &amp; SYMPTOMS W/O MCC</td>\n",
       "      <td>670060</td>\n",
       "      <td>TEXAS REGIONAL MEDICAL CENTER AT SUNNYVALE</td>\n",
       "      <td>231 SOUTH COLLINS ROAD</td>\n",
       "      <td>SUNNYVALE</td>\n",
       "      <td>TX</td>\n",
       "      <td>75182</td>\n",
       "      <td>TX - Dallas</td>\n",
       "      <td>11</td>\n",
       "      <td>28873.09</td>\n",
       "      <td>7663.09</td>\n",
       "      <td>6848.54</td>\n",
       "    </tr>\n",
       "    <tr>\n",
       "      <th>163064</th>\n",
       "      <td>948 - SIGNS &amp; SYMPTOMS W/O MCC</td>\n",
       "      <td>670068</td>\n",
       "      <td>TEXAS HEALTH PRESBYTERIAN HOSPITAL FLOWER MOUND</td>\n",
       "      <td>4400 LONG PRAIRIE ROAD</td>\n",
       "      <td>FLOWER MOUND</td>\n",
       "      <td>TX</td>\n",
       "      <td>75028</td>\n",
       "      <td>TX - Dallas</td>\n",
       "      <td>12</td>\n",
       "      <td>15042.00</td>\n",
       "      <td>3539.75</td>\n",
       "      <td>2887.41</td>\n",
       "    </tr>\n",
       "  </tbody>\n",
       "</table>\n",
       "<p>163065 rows × 12 columns</p>\n",
       "</div>"
      ],
      "text/plain": [
       "                                      diagnostic  Provider Id  \\\n",
       "0       039 - EXTRACRANIAL PROCEDURES W/O CC/MCC        10001   \n",
       "1       039 - EXTRACRANIAL PROCEDURES W/O CC/MCC        10005   \n",
       "2       039 - EXTRACRANIAL PROCEDURES W/O CC/MCC        10006   \n",
       "3       039 - EXTRACRANIAL PROCEDURES W/O CC/MCC        10011   \n",
       "4       039 - EXTRACRANIAL PROCEDURES W/O CC/MCC        10016   \n",
       "...                                          ...          ...   \n",
       "163060            948 - SIGNS & SYMPTOMS W/O MCC       670041   \n",
       "163061            948 - SIGNS & SYMPTOMS W/O MCC       670055   \n",
       "163062            948 - SIGNS & SYMPTOMS W/O MCC       670056   \n",
       "163063            948 - SIGNS & SYMPTOMS W/O MCC       670060   \n",
       "163064            948 - SIGNS & SYMPTOMS W/O MCC       670068   \n",
       "\n",
       "                                                   name  \\\n",
       "0                      SOUTHEAST ALABAMA MEDICAL CENTER   \n",
       "1                         MARSHALL MEDICAL CENTER SOUTH   \n",
       "2                        ELIZA COFFEE MEMORIAL HOSPITAL   \n",
       "3                                     ST VINCENT'S EAST   \n",
       "4                         SHELBY BAPTIST MEDICAL CENTER   \n",
       "...                                                 ...   \n",
       "163060                  SETON MEDICAL CENTER WILLIAMSON   \n",
       "163061                     METHODIST STONE OAK HOSPITAL   \n",
       "163062                        SETON MEDICAL CENTER HAYS   \n",
       "163063       TEXAS REGIONAL MEDICAL CENTER AT SUNNYVALE   \n",
       "163064  TEXAS HEALTH PRESBYTERIAN HOSPITAL FLOWER MOUND   \n",
       "\n",
       "           Provider Street Address Provider City state  Provider Zip Code  \\\n",
       "0           1108 ROSS CLARK CIRCLE        DOTHAN    AL              36301   \n",
       "1       2505 U S HIGHWAY 431 NORTH          BOAZ    AL              35957   \n",
       "2               205 MARENGO STREET      FLORENCE    AL              35631   \n",
       "3       50 MEDICAL PARK EAST DRIVE    BIRMINGHAM    AL              35235   \n",
       "4          1000 FIRST STREET NORTH     ALABASTER    AL              35007   \n",
       "...                            ...           ...   ...                ...   \n",
       "163060           201 SETON PARKWAY    ROUND ROCK    TX              78664   \n",
       "163061        1139 E SONTERRA BLVD   SAN ANTONIO    TX              78258   \n",
       "163062              6001 KYLE PKWY          KYLE    TX              78640   \n",
       "163063      231 SOUTH COLLINS ROAD     SUNNYVALE    TX              75182   \n",
       "163064      4400 LONG PRAIRIE ROAD  FLOWER MOUND    TX              75028   \n",
       "\n",
       "       Hospital Referral Region Description   Total Discharges   \\\n",
       "0                               AL - Dothan                  91   \n",
       "1                           AL - Birmingham                  14   \n",
       "2                           AL - Birmingham                  24   \n",
       "3                           AL - Birmingham                  25   \n",
       "4                           AL - Birmingham                  18   \n",
       "...                                     ...                 ...   \n",
       "163060                          TX - Austin                  23   \n",
       "163061                     TX - San Antonio                  11   \n",
       "163062                          TX - Austin                  19   \n",
       "163063                          TX - Dallas                  11   \n",
       "163064                          TX - Dallas                  12   \n",
       "\n",
       "         Average Covered Charges    Average Total Payments   \\\n",
       "0                        32963.07                   5777.24   \n",
       "1                        15131.85                   5787.57   \n",
       "2                        37560.37                   5434.95   \n",
       "3                        13998.28                   5417.56   \n",
       "4                        31633.27                   5658.33   \n",
       "...                           ...                       ...   \n",
       "163060                   26314.39                   3806.86   \n",
       "163061                   21704.72                   4027.36   \n",
       "163062                   39121.73                   5704.36   \n",
       "163063                   28873.09                   7663.09   \n",
       "163064                   15042.00                   3539.75   \n",
       "\n",
       "        avg_medicare_payment  \n",
       "0                    4763.73  \n",
       "1                    4976.71  \n",
       "2                    4453.79  \n",
       "3                    4129.16  \n",
       "4                    4851.44  \n",
       "...                      ...  \n",
       "163060               3071.39  \n",
       "163061               2649.72  \n",
       "163062               4058.36  \n",
       "163063               6848.54  \n",
       "163064               2887.41  \n",
       "\n",
       "[163065 rows x 12 columns]"
      ]
     },
     "execution_count": 29,
     "metadata": {},
     "output_type": "execute_result"
    }
   ],
   "source": [
    "payment_data.rename(columns = {'DRG Definition': 'diagnostic', \"Provider Name\": 'name', 'Provider State': 'state', 'Average Medicare Payments': 'avg_medicare_payment'}, inplace=True)\n",
    "payment_data"
   ]
  },
  {
   "cell_type": "markdown",
   "metadata": {},
   "source": [
    "### Average Medicare Payment Value\n",
    "\n",
    "* Compute the mean average medicare payment value for Idaho (ID) and Hawaii (HI). \n",
    "\n",
    "* Based on the observed means, do you believe that there is a statistically significant difference in medicare payments between the two states? Justify your answer."
   ]
  },
  {
   "cell_type": "code",
   "execution_count": 30,
   "metadata": {
    "slideshow": {
     "slide_type": "slide"
    }
   },
   "outputs": [
    {
     "data": {
      "text/plain": [
       "state\n",
       "HI    10967.475045\n",
       "ID     8461.977514\n",
       "Name: avg_medicare_payment, dtype: float64"
      ]
     },
     "execution_count": 30,
     "metadata": {},
     "output_type": "execute_result"
    }
   ],
   "source": [
    "# Write you code here\n",
    "\n",
    "payment_data.groupby(\"state\").mean().loc[[\"HI\", \"ID\"]]['avg_medicare_payment']"
   ]
  },
  {
   "cell_type": "markdown",
   "metadata": {},
   "source": [
    "There isn't enough information to say whether the difference between the two values is statiscally significant or not."
   ]
  },
  {
   "cell_type": "markdown",
   "metadata": {},
   "source": [
    "# FYI: Which are the Costliest Categories\n",
    "\n",
    "* Post-surgery infections are the categories with the highest Medicare payments cost,\n",
    "  * The most expensive category is `853 - INFECTIOUS & PARASITIC DISEASES W O.R. P....` \n",
    "    * there were 15 discharges in NY's  WESTCHESTER MEDICAL CENTER, with an average Medicare payment of $133,177. \n",
    "    \n",
    "    * there were 86 discharges in LA's CEDARS-SINAI MEDICAL CENTER with an average medicare payment of $87,437\n",
    "  \n",
    "* The overall cost of surgical site infection alone in the US is estimated at $3.5 to $10 billion annually."
   ]
  },
  {
   "cell_type": "code",
   "execution_count": 31,
   "metadata": {},
   "outputs": [
    {
     "data": {
      "text/html": [
       "<div>\n",
       "<style scoped>\n",
       "    .dataframe tbody tr th:only-of-type {\n",
       "        vertical-align: middle;\n",
       "    }\n",
       "\n",
       "    .dataframe tbody tr th {\n",
       "        vertical-align: top;\n",
       "    }\n",
       "\n",
       "    .dataframe thead th {\n",
       "        text-align: right;\n",
       "    }\n",
       "</style>\n",
       "<table border=\"1\" class=\"dataframe\">\n",
       "  <thead>\n",
       "    <tr style=\"text-align: right;\">\n",
       "      <th></th>\n",
       "      <th>DRG Definition</th>\n",
       "      <th>Provider Id</th>\n",
       "      <th>Provider Name</th>\n",
       "      <th>Provider Street Address</th>\n",
       "      <th>Provider City</th>\n",
       "      <th>Provider State</th>\n",
       "      <th>Provider Zip Code</th>\n",
       "      <th>Hospital Referral Region Description</th>\n",
       "      <th>Total Discharges</th>\n",
       "      <th>Average Covered Charges</th>\n",
       "      <th>Average Total Payments</th>\n",
       "      <th>Average Medicare Payments</th>\n",
       "    </tr>\n",
       "  </thead>\n",
       "  <tbody>\n",
       "    <tr>\n",
       "      <th>150793</th>\n",
       "      <td>853 - INFECTIOUS &amp; PARASITIC DISEASES W O.R. P...</td>\n",
       "      <td>330234</td>\n",
       "      <td>WESTCHESTER MEDICAL CENTER</td>\n",
       "      <td>100 WOODS RD</td>\n",
       "      <td>VALHALLA</td>\n",
       "      <td>NY</td>\n",
       "      <td>10595</td>\n",
       "      <td>NY - White Plains</td>\n",
       "      <td>15</td>\n",
       "      <td>517381.33</td>\n",
       "      <td>140255.26</td>\n",
       "      <td>133177.26</td>\n",
       "    </tr>\n",
       "    <tr>\n",
       "      <th>150143</th>\n",
       "      <td>853 - INFECTIOUS &amp; PARASITIC DISEASES W O.R. P...</td>\n",
       "      <td>90003</td>\n",
       "      <td>HOWARD UNIVERSITY HOSPITAL</td>\n",
       "      <td>2041 GEORGIA AVE NW</td>\n",
       "      <td>WASHINGTON</td>\n",
       "      <td>DC</td>\n",
       "      <td>20060</td>\n",
       "      <td>DC - Washington</td>\n",
       "      <td>14</td>\n",
       "      <td>234174.35</td>\n",
       "      <td>99067.50</td>\n",
       "      <td>95701.42</td>\n",
       "    </tr>\n",
       "    <tr>\n",
       "      <th>150057</th>\n",
       "      <td>853 - INFECTIOUS &amp; PARASITIC DISEASES W O.R. P...</td>\n",
       "      <td>50441</td>\n",
       "      <td>STANFORD HOSPITAL</td>\n",
       "      <td>300 PASTEUR DRIVE</td>\n",
       "      <td>STANFORD</td>\n",
       "      <td>CA</td>\n",
       "      <td>94305</td>\n",
       "      <td>CA - San Mateo County</td>\n",
       "      <td>31</td>\n",
       "      <td>496784.25</td>\n",
       "      <td>95302.74</td>\n",
       "      <td>94614.03</td>\n",
       "    </tr>\n",
       "    <tr>\n",
       "      <th>150088</th>\n",
       "      <td>853 - INFECTIOUS &amp; PARASITIC DISEASES W O.R. P...</td>\n",
       "      <td>50625</td>\n",
       "      <td>CEDARS-SINAI MEDICAL CENTER</td>\n",
       "      <td>8700 BEVERLY BLVD</td>\n",
       "      <td>LOS ANGELES</td>\n",
       "      <td>CA</td>\n",
       "      <td>90048</td>\n",
       "      <td>CA - Los Angeles</td>\n",
       "      <td>68</td>\n",
       "      <td>551524.07</td>\n",
       "      <td>88651.75</td>\n",
       "      <td>87437.85</td>\n",
       "    </tr>\n",
       "    <tr>\n",
       "      <th>150024</th>\n",
       "      <td>853 - INFECTIOUS &amp; PARASITIC DISEASES W O.R. P...</td>\n",
       "      <td>50262</td>\n",
       "      <td>RONALD REAGAN UCLA MEDICAL CENTER</td>\n",
       "      <td>757 WESTWOOD PLAZA</td>\n",
       "      <td>LOS ANGELES</td>\n",
       "      <td>CA</td>\n",
       "      <td>90095</td>\n",
       "      <td>CA - Los Angeles</td>\n",
       "      <td>31</td>\n",
       "      <td>313814.64</td>\n",
       "      <td>87857.64</td>\n",
       "      <td>86398.70</td>\n",
       "    </tr>\n",
       "  </tbody>\n",
       "</table>\n",
       "</div>"
      ],
      "text/plain": [
       "                                           DRG Definition  Provider Id  \\\n",
       "150793  853 - INFECTIOUS & PARASITIC DISEASES W O.R. P...       330234   \n",
       "150143  853 - INFECTIOUS & PARASITIC DISEASES W O.R. P...        90003   \n",
       "150057  853 - INFECTIOUS & PARASITIC DISEASES W O.R. P...        50441   \n",
       "150088  853 - INFECTIOUS & PARASITIC DISEASES W O.R. P...        50625   \n",
       "150024  853 - INFECTIOUS & PARASITIC DISEASES W O.R. P...        50262   \n",
       "\n",
       "                            Provider Name Provider Street Address  \\\n",
       "150793         WESTCHESTER MEDICAL CENTER            100 WOODS RD   \n",
       "150143         HOWARD UNIVERSITY HOSPITAL     2041 GEORGIA AVE NW   \n",
       "150057                  STANFORD HOSPITAL       300 PASTEUR DRIVE   \n",
       "150088        CEDARS-SINAI MEDICAL CENTER       8700 BEVERLY BLVD   \n",
       "150024  RONALD REAGAN UCLA MEDICAL CENTER      757 WESTWOOD PLAZA   \n",
       "\n",
       "       Provider City Provider State  Provider Zip Code  \\\n",
       "150793      VALHALLA             NY              10595   \n",
       "150143    WASHINGTON             DC              20060   \n",
       "150057      STANFORD             CA              94305   \n",
       "150088   LOS ANGELES             CA              90048   \n",
       "150024   LOS ANGELES             CA              90095   \n",
       "\n",
       "       Hospital Referral Region Description   Total Discharges   \\\n",
       "150793                    NY - White Plains                  15   \n",
       "150143                      DC - Washington                  14   \n",
       "150057                CA - San Mateo County                  31   \n",
       "150088                     CA - Los Angeles                  68   \n",
       "150024                     CA - Los Angeles                  31   \n",
       "\n",
       "         Average Covered Charges    Average Total Payments   \\\n",
       "150793                  517381.33                 140255.26   \n",
       "150143                  234174.35                  99067.50   \n",
       "150057                  496784.25                  95302.74   \n",
       "150088                  551524.07                  88651.75   \n",
       "150024                  313814.64                  87857.64   \n",
       "\n",
       "        Average Medicare Payments  \n",
       "150793                  133177.26  \n",
       "150143                   95701.42  \n",
       "150057                   94614.03  \n",
       "150088                   87437.85  \n",
       "150024                   86398.70  "
      ]
     },
     "execution_count": 31,
     "metadata": {},
     "output_type": "execute_result"
    }
   ],
   "source": [
    "data = pd.read_csv('/Users/aditijaiswal/Downloads/hospital_charge_data.csv')\n",
    "data[data[\"DRG Definition\"].str.contains(\"INFECTIOUS\")].sort_values(\"Average Medicare Payments\", ascending=False).head()"
   ]
  },
  {
   "cell_type": "markdown",
   "metadata": {},
   "source": [
    "### Skewed Data\n",
    "\n",
    "* The payments data in Idaho and Hawaii are highly skewed and most payments are below $15k$, with some up to $60k$ in both states. See graphs below.\n",
    "\n"
   ]
  },
  {
   "cell_type": "code",
   "execution_count": 32,
   "metadata": {},
   "outputs": [
    {
     "data": {
      "text/plain": [
       "Text(0.5, 1.0, 'avg_medicare_payment in Hawaii')"
      ]
     },
     "execution_count": 32,
     "metadata": {},
     "output_type": "execute_result"
    },
    {
     "data": {
      "image/png": "[encoded data removed]",
      "text/plain": [
       "<Figure size 1584x288 with 2 Axes>"
      ]
     },
     "metadata": {
      "needs_background": "light"
     },
     "output_type": "display_data"
    }
   ],
   "source": [
    "plt.figure(figsize=(22,4))\n",
    "plt.subplot(1, 2, 1)\n",
    "_ = plt.hist(payment_data[payment_data[\"state\"] == \"ID\"][\"avg_medicare_payment\"])\n",
    "plt.title(\"avg_medicare_payment in ID\")\n",
    "plt.subplot(1, 2, 2)\n",
    "_ = plt.hist(payment_data[payment_data[\"state\"] == \"HI\"][\"avg_medicare_payment\"])\n",
    "plt.title(\"avg_medicare_payment in Hawaii\")"
   ]
  },
  {
   "cell_type": "markdown",
   "metadata": {},
   "source": [
    "### Log-Transforming the Data\n",
    "\n",
    "\n",
    "* As discussed in class, data which follow bell-shaped distributions tend to be easier to work with in hypothesis testing.\n",
    "    * Bootstrapping is not recommended with skewed data.\n",
    "\n",
    "* Compute the `log` (base 10) of the `avg_medicare_payment` column and save the result to a new column called `log_avg_medicare_payment`"
   ]
  },
  {
   "cell_type": "code",
   "execution_count": 33,
   "metadata": {},
   "outputs": [
    {
     "data": {
      "text/html": [
       "<div>\n",
       "<style scoped>\n",
       "    .dataframe tbody tr th:only-of-type {\n",
       "        vertical-align: middle;\n",
       "    }\n",
       "\n",
       "    .dataframe tbody tr th {\n",
       "        vertical-align: top;\n",
       "    }\n",
       "\n",
       "    .dataframe thead th {\n",
       "        text-align: right;\n",
       "    }\n",
       "</style>\n",
       "<table border=\"1\" class=\"dataframe\">\n",
       "  <thead>\n",
       "    <tr style=\"text-align: right;\">\n",
       "      <th></th>\n",
       "      <th>diagnostic</th>\n",
       "      <th>Provider Id</th>\n",
       "      <th>name</th>\n",
       "      <th>Provider Street Address</th>\n",
       "      <th>Provider City</th>\n",
       "      <th>state</th>\n",
       "      <th>Provider Zip Code</th>\n",
       "      <th>Hospital Referral Region Description</th>\n",
       "      <th>Total Discharges</th>\n",
       "      <th>Average Covered Charges</th>\n",
       "      <th>Average Total Payments</th>\n",
       "      <th>avg_medicare_payment</th>\n",
       "      <th>log_avg_medicare_payment</th>\n",
       "    </tr>\n",
       "  </thead>\n",
       "  <tbody>\n",
       "    <tr>\n",
       "      <th>0</th>\n",
       "      <td>039 - EXTRACRANIAL PROCEDURES W/O CC/MCC</td>\n",
       "      <td>10001</td>\n",
       "      <td>SOUTHEAST ALABAMA MEDICAL CENTER</td>\n",
       "      <td>1108 ROSS CLARK CIRCLE</td>\n",
       "      <td>DOTHAN</td>\n",
       "      <td>AL</td>\n",
       "      <td>36301</td>\n",
       "      <td>AL - Dothan</td>\n",
       "      <td>91</td>\n",
       "      <td>32963.07</td>\n",
       "      <td>5777.24</td>\n",
       "      <td>4763.73</td>\n",
       "      <td>8.468786</td>\n",
       "    </tr>\n",
       "    <tr>\n",
       "      <th>1</th>\n",
       "      <td>039 - EXTRACRANIAL PROCEDURES W/O CC/MCC</td>\n",
       "      <td>10005</td>\n",
       "      <td>MARSHALL MEDICAL CENTER SOUTH</td>\n",
       "      <td>2505 U S HIGHWAY 431 NORTH</td>\n",
       "      <td>BOAZ</td>\n",
       "      <td>AL</td>\n",
       "      <td>35957</td>\n",
       "      <td>AL - Birmingham</td>\n",
       "      <td>14</td>\n",
       "      <td>15131.85</td>\n",
       "      <td>5787.57</td>\n",
       "      <td>4976.71</td>\n",
       "      <td>8.512524</td>\n",
       "    </tr>\n",
       "    <tr>\n",
       "      <th>2</th>\n",
       "      <td>039 - EXTRACRANIAL PROCEDURES W/O CC/MCC</td>\n",
       "      <td>10006</td>\n",
       "      <td>ELIZA COFFEE MEMORIAL HOSPITAL</td>\n",
       "      <td>205 MARENGO STREET</td>\n",
       "      <td>FLORENCE</td>\n",
       "      <td>AL</td>\n",
       "      <td>35631</td>\n",
       "      <td>AL - Birmingham</td>\n",
       "      <td>24</td>\n",
       "      <td>37560.37</td>\n",
       "      <td>5434.95</td>\n",
       "      <td>4453.79</td>\n",
       "      <td>8.401511</td>\n",
       "    </tr>\n",
       "    <tr>\n",
       "      <th>3</th>\n",
       "      <td>039 - EXTRACRANIAL PROCEDURES W/O CC/MCC</td>\n",
       "      <td>10011</td>\n",
       "      <td>ST VINCENT'S EAST</td>\n",
       "      <td>50 MEDICAL PARK EAST DRIVE</td>\n",
       "      <td>BIRMINGHAM</td>\n",
       "      <td>AL</td>\n",
       "      <td>35235</td>\n",
       "      <td>AL - Birmingham</td>\n",
       "      <td>25</td>\n",
       "      <td>13998.28</td>\n",
       "      <td>5417.56</td>\n",
       "      <td>4129.16</td>\n",
       "      <td>8.325829</td>\n",
       "    </tr>\n",
       "    <tr>\n",
       "      <th>4</th>\n",
       "      <td>039 - EXTRACRANIAL PROCEDURES W/O CC/MCC</td>\n",
       "      <td>10016</td>\n",
       "      <td>SHELBY BAPTIST MEDICAL CENTER</td>\n",
       "      <td>1000 FIRST STREET NORTH</td>\n",
       "      <td>ALABASTER</td>\n",
       "      <td>AL</td>\n",
       "      <td>35007</td>\n",
       "      <td>AL - Birmingham</td>\n",
       "      <td>18</td>\n",
       "      <td>31633.27</td>\n",
       "      <td>5658.33</td>\n",
       "      <td>4851.44</td>\n",
       "      <td>8.487031</td>\n",
       "    </tr>\n",
       "    <tr>\n",
       "      <th>...</th>\n",
       "      <td>...</td>\n",
       "      <td>...</td>\n",
       "      <td>...</td>\n",
       "      <td>...</td>\n",
       "      <td>...</td>\n",
       "      <td>...</td>\n",
       "      <td>...</td>\n",
       "      <td>...</td>\n",
       "      <td>...</td>\n",
       "      <td>...</td>\n",
       "      <td>...</td>\n",
       "      <td>...</td>\n",
       "      <td>...</td>\n",
       "    </tr>\n",
       "    <tr>\n",
       "      <th>163060</th>\n",
       "      <td>948 - SIGNS &amp; SYMPTOMS W/O MCC</td>\n",
       "      <td>670041</td>\n",
       "      <td>SETON MEDICAL CENTER WILLIAMSON</td>\n",
       "      <td>201 SETON PARKWAY</td>\n",
       "      <td>ROUND ROCK</td>\n",
       "      <td>TX</td>\n",
       "      <td>78664</td>\n",
       "      <td>TX - Austin</td>\n",
       "      <td>23</td>\n",
       "      <td>26314.39</td>\n",
       "      <td>3806.86</td>\n",
       "      <td>3071.39</td>\n",
       "      <td>8.029886</td>\n",
       "    </tr>\n",
       "    <tr>\n",
       "      <th>163061</th>\n",
       "      <td>948 - SIGNS &amp; SYMPTOMS W/O MCC</td>\n",
       "      <td>670055</td>\n",
       "      <td>METHODIST STONE OAK HOSPITAL</td>\n",
       "      <td>1139 E SONTERRA BLVD</td>\n",
       "      <td>SAN ANTONIO</td>\n",
       "      <td>TX</td>\n",
       "      <td>78258</td>\n",
       "      <td>TX - San Antonio</td>\n",
       "      <td>11</td>\n",
       "      <td>21704.72</td>\n",
       "      <td>4027.36</td>\n",
       "      <td>2649.72</td>\n",
       "      <td>7.882209</td>\n",
       "    </tr>\n",
       "    <tr>\n",
       "      <th>163062</th>\n",
       "      <td>948 - SIGNS &amp; SYMPTOMS W/O MCC</td>\n",
       "      <td>670056</td>\n",
       "      <td>SETON MEDICAL CENTER HAYS</td>\n",
       "      <td>6001 KYLE PKWY</td>\n",
       "      <td>KYLE</td>\n",
       "      <td>TX</td>\n",
       "      <td>78640</td>\n",
       "      <td>TX - Austin</td>\n",
       "      <td>19</td>\n",
       "      <td>39121.73</td>\n",
       "      <td>5704.36</td>\n",
       "      <td>4058.36</td>\n",
       "      <td>8.308534</td>\n",
       "    </tr>\n",
       "    <tr>\n",
       "      <th>163063</th>\n",
       "      <td>948 - SIGNS &amp; SYMPTOMS W/O MCC</td>\n",
       "      <td>670060</td>\n",
       "      <td>TEXAS REGIONAL MEDICAL CENTER AT SUNNYVALE</td>\n",
       "      <td>231 SOUTH COLLINS ROAD</td>\n",
       "      <td>SUNNYVALE</td>\n",
       "      <td>TX</td>\n",
       "      <td>75182</td>\n",
       "      <td>TX - Dallas</td>\n",
       "      <td>11</td>\n",
       "      <td>28873.09</td>\n",
       "      <td>7663.09</td>\n",
       "      <td>6848.54</td>\n",
       "      <td>8.831791</td>\n",
       "    </tr>\n",
       "    <tr>\n",
       "      <th>163064</th>\n",
       "      <td>948 - SIGNS &amp; SYMPTOMS W/O MCC</td>\n",
       "      <td>670068</td>\n",
       "      <td>TEXAS HEALTH PRESBYTERIAN HOSPITAL FLOWER MOUND</td>\n",
       "      <td>4400 LONG PRAIRIE ROAD</td>\n",
       "      <td>FLOWER MOUND</td>\n",
       "      <td>TX</td>\n",
       "      <td>75028</td>\n",
       "      <td>TX - Dallas</td>\n",
       "      <td>12</td>\n",
       "      <td>15042.00</td>\n",
       "      <td>3539.75</td>\n",
       "      <td>2887.41</td>\n",
       "      <td>7.968115</td>\n",
       "    </tr>\n",
       "  </tbody>\n",
       "</table>\n",
       "<p>163065 rows × 13 columns</p>\n",
       "</div>"
      ],
      "text/plain": [
       "                                      diagnostic  Provider Id  \\\n",
       "0       039 - EXTRACRANIAL PROCEDURES W/O CC/MCC        10001   \n",
       "1       039 - EXTRACRANIAL PROCEDURES W/O CC/MCC        10005   \n",
       "2       039 - EXTRACRANIAL PROCEDURES W/O CC/MCC        10006   \n",
       "3       039 - EXTRACRANIAL PROCEDURES W/O CC/MCC        10011   \n",
       "4       039 - EXTRACRANIAL PROCEDURES W/O CC/MCC        10016   \n",
       "...                                          ...          ...   \n",
       "163060            948 - SIGNS & SYMPTOMS W/O MCC       670041   \n",
       "163061            948 - SIGNS & SYMPTOMS W/O MCC       670055   \n",
       "163062            948 - SIGNS & SYMPTOMS W/O MCC       670056   \n",
       "163063            948 - SIGNS & SYMPTOMS W/O MCC       670060   \n",
       "163064            948 - SIGNS & SYMPTOMS W/O MCC       670068   \n",
       "\n",
       "                                                   name  \\\n",
       "0                      SOUTHEAST ALABAMA MEDICAL CENTER   \n",
       "1                         MARSHALL MEDICAL CENTER SOUTH   \n",
       "2                        ELIZA COFFEE MEMORIAL HOSPITAL   \n",
       "3                                     ST VINCENT'S EAST   \n",
       "4                         SHELBY BAPTIST MEDICAL CENTER   \n",
       "...                                                 ...   \n",
       "163060                  SETON MEDICAL CENTER WILLIAMSON   \n",
       "163061                     METHODIST STONE OAK HOSPITAL   \n",
       "163062                        SETON MEDICAL CENTER HAYS   \n",
       "163063       TEXAS REGIONAL MEDICAL CENTER AT SUNNYVALE   \n",
       "163064  TEXAS HEALTH PRESBYTERIAN HOSPITAL FLOWER MOUND   \n",
       "\n",
       "           Provider Street Address Provider City state  Provider Zip Code  \\\n",
       "0           1108 ROSS CLARK CIRCLE        DOTHAN    AL              36301   \n",
       "1       2505 U S HIGHWAY 431 NORTH          BOAZ    AL              35957   \n",
       "2               205 MARENGO STREET      FLORENCE    AL              35631   \n",
       "3       50 MEDICAL PARK EAST DRIVE    BIRMINGHAM    AL              35235   \n",
       "4          1000 FIRST STREET NORTH     ALABASTER    AL              35007   \n",
       "...                            ...           ...   ...                ...   \n",
       "163060           201 SETON PARKWAY    ROUND ROCK    TX              78664   \n",
       "163061        1139 E SONTERRA BLVD   SAN ANTONIO    TX              78258   \n",
       "163062              6001 KYLE PKWY          KYLE    TX              78640   \n",
       "163063      231 SOUTH COLLINS ROAD     SUNNYVALE    TX              75182   \n",
       "163064      4400 LONG PRAIRIE ROAD  FLOWER MOUND    TX              75028   \n",
       "\n",
       "       Hospital Referral Region Description   Total Discharges   \\\n",
       "0                               AL - Dothan                  91   \n",
       "1                           AL - Birmingham                  14   \n",
       "2                           AL - Birmingham                  24   \n",
       "3                           AL - Birmingham                  25   \n",
       "4                           AL - Birmingham                  18   \n",
       "...                                     ...                 ...   \n",
       "163060                          TX - Austin                  23   \n",
       "163061                     TX - San Antonio                  11   \n",
       "163062                          TX - Austin                  19   \n",
       "163063                          TX - Dallas                  11   \n",
       "163064                          TX - Dallas                  12   \n",
       "\n",
       "         Average Covered Charges    Average Total Payments   \\\n",
       "0                        32963.07                   5777.24   \n",
       "1                        15131.85                   5787.57   \n",
       "2                        37560.37                   5434.95   \n",
       "3                        13998.28                   5417.56   \n",
       "4                        31633.27                   5658.33   \n",
       "...                           ...                       ...   \n",
       "163060                   26314.39                   3806.86   \n",
       "163061                   21704.72                   4027.36   \n",
       "163062                   39121.73                   5704.36   \n",
       "163063                   28873.09                   7663.09   \n",
       "163064                   15042.00                   3539.75   \n",
       "\n",
       "        avg_medicare_payment  log_avg_medicare_payment  \n",
       "0                    4763.73                  8.468786  \n",
       "1                    4976.71                  8.512524  \n",
       "2                    4453.79                  8.401511  \n",
       "3                    4129.16                  8.325829  \n",
       "4                    4851.44                  8.487031  \n",
       "...                      ...                       ...  \n",
       "163060               3071.39                  8.029886  \n",
       "163061               2649.72                  7.882209  \n",
       "163062               4058.36                  8.308534  \n",
       "163063               6848.54                  8.831791  \n",
       "163064               2887.41                  7.968115  \n",
       "\n",
       "[163065 rows x 13 columns]"
      ]
     },
     "execution_count": 33,
     "metadata": {},
     "output_type": "execute_result"
    }
   ],
   "source": [
    "# Write you code here\n",
    "\n",
    "payment_data[\"log_avg_medicare_payment\"] = np.log(payment_data[\"avg_medicare_payment\"]) \n",
    "payment_data"
   ]
  },
  {
   "cell_type": "markdown",
   "metadata": {},
   "source": [
    "# Plotting the Hawaii KDE\n",
    "\n",
    "* Plot the `log_avg_medicare_payment` KDE for Hawaii \n",
    "    \n",
    "* Your curve should look like the one below\n",
    "\n",
    "* Notice that: \n",
    "  * The KDE is smooth (as opposed to having jagged peaks)\n",
    "   * The bandwidth was selected so that the range (x-axis) is mimized\n",
    "\n",
    "* In the example below, x- and y-axis labels are missing. Your final graph should be labeled appropriately and should have a title\n",
    "\n",
    "<img src=\"https://www.dropbox.com/s/i98rzkjiajz2by2/kde_hawaii.png?dl=1\" alt=\"drawing\" style=\"width:700px;\"/>"
   ]
  },
  {
   "cell_type": "code",
   "execution_count": 34,
   "metadata": {},
   "outputs": [
    {
     "data": {
      "text/plain": [
       "<matplotlib.legend.Legend at 0x7ff50367d400>"
      ]
     },
     "execution_count": 34,
     "metadata": {},
     "output_type": "execute_result"
    },
    {
     "data": {
      "image/png": "[encoded data removed]",
      "text/plain": [
       "<Figure size 1080x432 with 1 Axes>"
      ]
     },
     "metadata": {
      "needs_background": "light"
     },
     "output_type": "display_data"
    }
   ],
   "source": [
    "# Write your code here\n",
    "\n",
    "log_avg_medicare_payment_hawaii = payment_data.loc[payment_data['state']=='HI']['log_avg_medicare_payment']\n",
    "kde_hawaii = sp.stats.gaussian_kde(log_avg_medicare_payment_hawaii,bw_method = 0.5)\n",
    "plt.figure(figsize = (15, 6))\n",
    "xval = np.arange(7, 13,.01)\n",
    "plt.plot(xval, kde_hawaii.evaluate(xval), label='Hawaii')\n",
    "plt.legend()"
   ]
  },
  {
   "cell_type": "markdown",
   "metadata": {},
   "source": [
    "### Interpreting the Hawaii Emprical Distribution\n",
    "\n",
    "* According to the KDE plot above, what is the mean `avg_medicare_payment`? \n",
    "  * Plot the mean `avg_medicare_payment` and its density on your graph \n",
    "\n",
    "\n",
    "* Your graph should look like the one below     \n",
    "  * Note that lines in the example below are intentionally drawn at a value that may be different from the true mean  \n",
    "  * Make sure the vertical and horizontal lines in your graph match the mean and its density respectively\n",
    "  \n",
    "\n",
    "* Use the functions and `plt.vline` to plot the lines\n",
    "\n",
    "\n",
    "<img src=\"https://www.dropbox.com/s/boiakmsgxw69z1r/interpreting_kde.png?dl=1\" alt=\"drawing\" style=\"width:800px;\"/>"
   ]
  },
  {
   "cell_type": "code",
   "execution_count": 35,
   "metadata": {},
   "outputs": [
    {
     "data": {
      "text/plain": [
       "(6.5, 13.5)"
      ]
     },
     "execution_count": 35,
     "metadata": {},
     "output_type": "execute_result"
    },
    {
     "data": {
      "image/png": "[encoded data removed]",
      "text/plain": [
       "<Figure size 864x432 with 1 Axes>"
      ]
     },
     "metadata": {
      "needs_background": "light"
     },
     "output_type": "display_data"
    }
   ],
   "source": [
    "# Write your code here \n",
    "\n",
    "plt.figure(figsize = (12,6))\n",
    "log_mean_hawaii = payment_data[payment_data[\"state\"] == \"HI\"]['log_avg_medicare_payment'].mean()\n",
    "plt.plot(xval, kde_hawaii.evaluate(xval), label='Hawaii')\n",
    "plt.legend()\n",
    "\n",
    "plt.vlines(np.mean(log_avg_medicare_payment_hawaii), 0, kde_hawaii.evaluate(np.mean(log_avg_medicare_payment_hawaii)), color='red')\n",
    "plt.hlines(kde_hawaii.evaluate(np.mean(log_avg_medicare_payment_hawaii)), 6.5, np.mean(log_avg_medicare_payment_hawaii) , color='red')\n",
    "\n",
    "plt.ylim(bottom = 0, top = 0.7)\n",
    "plt.xlim(left = 6.5, right = 13.5)"
   ]
  },
  {
   "cell_type": "markdown",
   "metadata": {},
   "source": [
    "### Interpreting the Hawaii Emprical Distribution\n",
    "\n",
    "* According to the `KDE` plot above, what is the probability of observing an average payment greater than $25,000\n",
    "\n",
    "  * The *KDE* object works in a similar fashion to any of the probability distributions in `scipy`\n",
    "  \n",
    "    * Note that what you are asked to compute here is not the density but the probability avg-payments > $25k\n",
    "    \n",
    "    * Since the total probability under the curve sums to 1, then the `avg_medicare_payment`  > $25k should be less than 1.\n",
    "    \n",
    "   * Also, recall that your payment values are log-transformed\n",
    "\n",
    "* Use `matplotlib`'s `fill_between` to paint the area under the curve representing that area. "
   ]
  },
  {
   "cell_type": "code",
   "execution_count": 36,
   "metadata": {
    "tags": []
   },
   "outputs": [
    {
     "data": {
      "text/plain": [
       "10.126631103850338"
      ]
     },
     "execution_count": 36,
     "metadata": {},
     "output_type": "execute_result"
    }
   ],
   "source": [
    "# Write your code here\n",
    "\n",
    "np.log(25000)"
   ]
  },
  {
   "cell_type": "code",
   "execution_count": 37,
   "metadata": {},
   "outputs": [
    {
     "data": {
      "text/plain": [
       "<matplotlib.legend.Legend at 0x7ff501e0a9d0>"
      ]
     },
     "execution_count": 37,
     "metadata": {},
     "output_type": "execute_result"
    },
    {
     "data": {
      "image/png": "[encoded data removed]",
      "text/plain": [
       "<Figure size 864x360 with 1 Axes>"
      ]
     },
     "metadata": {
      "needs_background": "light"
     },
     "output_type": "display_data"
    }
   ],
   "source": [
    "log_avg_payment_HI = payment_data[payment_data['state']=='HI']['log_avg_medicare_payment']\n",
    "\n",
    "def EvalArea(sample, x):\n",
    "    count = 0.0\n",
    "    for i in sample:\n",
    "        if i <= x:\n",
    "            count += 1\n",
    "    prob = count / len(sample)\n",
    "    return prob\n",
    "\n",
    "left = EvalArea(log_avg_payment_HI, np.log(25000))\n",
    "right = 1 - left\n",
    "\n",
    "plt.figure(figsize=(12,5))\n",
    "kde_HI = sp.stats.gaussian_kde(log_avg_medicare_payment_hawaii, bw_method = 0.4)\n",
    "plt.plot(xval, kde_HI.evaluate(xval), label = 'Hawaii')\n",
    "x_adjust = np.arange(np.log(25000), max(xval), right)\n",
    "plt.fill_between(x = x_adjust,  y1=0, y2=kde_HI.evaluate(x_adjust) ,color='b',label = 'Avg>25k')\n",
    "plt.ylim(bottom = -0.05, top = 0.7)\n",
    "plt.xlim(left = 6.5, right = 13.5)\n",
    "plt.legend()"
   ]
  },
  {
   "cell_type": "markdown",
   "metadata": {},
   "source": [
    " ### Plotting Both KDEs   \n",
    "\n",
    "* Plot the Hawaii and Idaho `log_avg_medicare_payment` distributions on the same plot\n",
    "\n",
    "* Your plot should look like the following\n",
    "\n",
    "<img src=\"https://www.dropbox.com/s/tej47hhhxc18tdd/both_kdes.png?dl=1\" alt=\"drawing\" style=\"width:700px;\"/>\n",
    "\n",
    "\n",
    "* Label the x-axis and y-axis and choose a title for your plot.\n",
    "\n",
    "According to your plot, do you believe that the average payment across both states is different? Explain your answer.\n",
    "\n",
    "\n"
   ]
  },
  {
   "cell_type": "code",
   "execution_count": 38,
   "metadata": {},
   "outputs": [
    {
     "data": {
      "text/plain": [
       "<matplotlib.legend.Legend at 0x7ff501aa4fd0>"
      ]
     },
     "execution_count": 38,
     "metadata": {},
     "output_type": "execute_result"
    },
    {
     "data": {
      "image/png": "[encoded data removed]",
      "text/plain": [
       "<Figure size 864x432 with 1 Axes>"
      ]
     },
     "metadata": {
      "needs_background": "light"
     },
     "output_type": "display_data"
    }
   ],
   "source": [
    "# Write your code here\n",
    "\n",
    "plt.figure(figsize=(12,6))\n",
    "\n",
    "data_idaho = payment_data.loc[payment_data['state']=='ID']['log_avg_medicare_payment']\n",
    "data_hawaii = payment_data.loc[payment_data['state']=='HI']['log_avg_medicare_payment']\n",
    "kde_ID = sp.stats.gaussian_kde(data_idaho, bw_method = 0.4)\n",
    "kde_HI = sp.stats.gaussian_kde(data_hawaii, bw_method = 0.4)\n",
    "x = np.arange(6, 13,.01)\n",
    "plt.plot(x, kde_HI.evaluate(x),label='Hawaii')\n",
    "plt.plot(x, kde_ID.evaluate(x),label='Idaho')\n",
    "plt.legend()"
   ]
  },
  {
   "cell_type": "markdown",
   "metadata": {},
   "source": [
    "### Hypothesis Testing\n",
    "\n",
    "* Is there a statistically significant difference between Hawaii and Idaho in terms of log_avg_medicare_payment? Here are the hypotheses we will test:\n",
    "\n",
    "* Null Hypothesis ($H_0$)\n",
    "  * The mean values across both state are the same and any differenc is due to solely sampling\n",
    "\n",
    "* Alternative Hypothesis ($H_A$)\n",
    "  * The mean values across both state are different\n",
    "    * The observed difference is not due to chance\n",
    "    \n"
   ]
  },
  {
   "cell_type": "markdown",
   "metadata": {},
   "source": [
    "\n",
    "### Exracting the Data\n",
    "\n",
    "* First, we will combine the average Medicaid payments from both states into a single `numpy` `array` called `log_avg_medicare_payment_hi_id`. This will allow us to work with the data more easily.\n",
    "\n",
    "  * Your `numpy` array should contain 993 entries\n"
   ]
  },
  {
   "cell_type": "code",
   "execution_count": 39,
   "metadata": {},
   "outputs": [
    {
     "data": {
      "text/plain": [
       "(993,)"
      ]
     },
     "execution_count": 39,
     "metadata": {},
     "output_type": "execute_result"
    }
   ],
   "source": [
    "# Write your code here\n",
    "\n",
    "log_avg_medicare_payment_hi_id = np.append(data_idaho, data_hawaii)\n",
    "log_avg_medicare_payment_hi_id.shape"
   ]
  },
  {
   "cell_type": "markdown",
   "metadata": {},
   "source": [
    "### Computing the Observed Test Statistic\n",
    "\n",
    "* Since we are interested in the difference between both averages, i.e., avg_medicare_payment in Hawaii and Idaho, a good test statistic is, therefore, the difference between the sample means in both states. \n",
    "* Compute the observed test statistic and save it to a variable called `observed_test_stat`"
   ]
  },
  {
   "cell_type": "code",
   "execution_count": 40,
   "metadata": {},
   "outputs": [
    {
     "data": {
      "text/plain": [
       "0.2764453833037841"
      ]
     },
     "execution_count": 40,
     "metadata": {},
     "output_type": "execute_result"
    }
   ],
   "source": [
    "# Write your code here \n",
    "\n",
    "observed_test_stat = np.mean(data_hawaii) - np.mean(data_idaho)\n",
    "observed_test_stat"
   ]
  },
  {
   "cell_type": "markdown",
   "metadata": {},
   "source": [
    "### Generating Data Under the Null Hypothesis: Single Iteration\n",
    "\n",
    "* Under the null hypothesis, we assume that Hawaii and Idaho data come from the same distribution, and therefore, have the same parameters\n",
    "\n",
    "* We can use permutations to simulate another set of samples from Hawaii and Idaho.\n",
    "\n",
    "To generate data for a single iteration we will:\n",
    "\n",
    "  1. Shuffle the values in `log_avg_medicare_payment_hi_id`\n",
    "  2. Select two new samples to represent Hawaii and Idaho. The samples must have the same sizes as in the original data.\n",
    "  3. Compute the difference between the mean `log_avg_medicare_payment` across both states.\n",
    "  4. Store the value in a variable called `perm_diff`\n"
   ]
  },
  {
   "cell_type": "code",
   "execution_count": 41,
   "metadata": {},
   "outputs": [
    {
     "name": "stdout",
     "output_type": "stream",
     "text": [
      "0.060685645474023886\n"
     ]
    }
   ],
   "source": [
    "# Write Your Code Here\n",
    "\n",
    "np.random.shuffle(log_avg_medicare_payment_hi_id)\n",
    "sample_hawaii = log_avg_medicare_payment_hi_id[0:data_hawaii.shape[0]]\n",
    "sample_idaho = log_avg_medicare_payment_hi_id[data_hawaii.shape[0]:]\n",
    "perm_diff = np.mean(sample_hawaii)-np.mean(sample_idaho)\n",
    "print(perm_diff)"
   ]
  },
  {
   "cell_type": "markdown",
   "metadata": {},
   "source": [
    "* Repeat the process described above 5,000 times. In each iteration save the difference in means between the two bootstrapped datasets to an array called `perm_diffs`\n",
    "* Plot the resulting distribution of the means \n",
    "  * You may use any plot type you deem appropriate for this use case\n",
    "* Use `plt.scatter` to plot in red the observed test statistic\n",
    "\n",
    "* The result should look \"somewhat\" like the graph below\n",
    "<img src=\"https://www.dropbox.com/s/doln0egikkbar52/diff_hi_id.png?dl=1\" alt=\"drawing\" style=\"width:700px;\"/>\n"
   ]
  },
  {
   "cell_type": "code",
   "execution_count": 42,
   "metadata": {},
   "outputs": [
    {
     "data": {
      "text/plain": [
       "<matplotlib.collections.PathCollection at 0x7ff4e049b4f0>"
      ]
     },
     "execution_count": 42,
     "metadata": {},
     "output_type": "execute_result"
    },
    {
     "data": {
      "image/png": "[encoded data removed]",
      "text/plain": [
       "<Figure size 864x432 with 1 Axes>"
      ]
     },
     "metadata": {
      "needs_background": "light"
     },
     "output_type": "display_data"
    }
   ],
   "source": [
    "# Write you code here\n",
    "\n",
    "perm_diffs = []\n",
    "\n",
    "for i in range(5000):\n",
    "    np.random.shuffle(log_avg_medicare_payment_hi_id)\n",
    "    sample_hawaii = log_avg_medicare_payment_hi_id[0:data_hawaii.shape[0]]\n",
    "    sample_idaho = log_avg_medicare_payment_hi_id[data_hawaii.shape[0]:]\n",
    "    perm_diffs.append(np.mean(sample_hawaii)-np.mean(sample_idaho))\n",
    "plt.figure(figsize=(12,6))\n",
    "plt.hist(perm_diffs)\n",
    "plt.scatter(observed_test_stat, 0, color='r')"
   ]
  },
  {
   "cell_type": "markdown",
   "metadata": {},
   "source": [
    "### Computing the p-value for the test\n",
    "\n",
    "* Compute the p-value associated with your test statistic and state whether you have ground to reject the null hypothesis.\n",
    "  * Be sure to provide your `p-value` to justify your answer."
   ]
  },
  {
   "cell_type": "code",
   "execution_count": 43,
   "metadata": {},
   "outputs": [
    {
     "data": {
      "text/plain": [
       "0.0"
      ]
     },
     "execution_count": 43,
     "metadata": {},
     "output_type": "execute_result"
    }
   ],
   "source": [
    "# Write you code here\n",
    "\n",
    "p_value = sum(np.array(perm_diffs) > (observed_test_stat)) / len(perm_diffs)\n",
    "p_value"
   ]
  },
  {
   "cell_type": "code",
   "execution_count": 44,
   "metadata": {},
   "outputs": [],
   "source": [
    "# Write your answer here"
   ]
  },
  {
   "cell_type": "markdown",
   "metadata": {},
   "source": [
    "### Hypothesis testing with values from DC\n",
    "\n",
    "* Repeat the hypothesis test above by testing Hawaii and DC. Use the first cells below, to run your code and plot the empirical bootstrap distribution and the second to answer whether the data are statistically significantly similar or now. Include the `p-value` to support your conclusion"
   ]
  },
  {
   "cell_type": "code",
   "execution_count": 45,
   "metadata": {
    "tags": []
   },
   "outputs": [
    {
     "data": {
      "text/plain": [
       "<matplotlib.legend.Legend at 0x7ff5109a4e50>"
      ]
     },
     "execution_count": 45,
     "metadata": {},
     "output_type": "execute_result"
    },
    {
     "data": {
      "image/png": "[encoded data removed]",
      "text/plain": [
       "<Figure size 864x360 with 1 Axes>"
      ]
     },
     "metadata": {
      "needs_background": "light"
     },
     "output_type": "display_data"
    }
   ],
   "source": [
    "# Write you code here\n",
    "\n",
    "data_dc = payment_data.loc[payment_data['state']=='DC']['log_avg_medicare_payment']\n",
    "kde_DC = sp.stats.gaussian_kde(data_dc, bw_method = 0.4)\n",
    "x = np.arange(6, 13,.01)\n",
    "plt.figure(figsize=(12,5))\n",
    "plt.plot(x, kde_HI.evaluate(x),label='Hawaii')\n",
    "plt.plot(x, kde_DC.evaluate(x),label='DC')\n",
    "plt.legend()"
   ]
  },
  {
   "cell_type": "code",
   "execution_count": 46,
   "metadata": {
    "tags": []
   },
   "outputs": [
    {
     "data": {
      "text/plain": [
       "(904,)"
      ]
     },
     "execution_count": 46,
     "metadata": {},
     "output_type": "execute_result"
    }
   ],
   "source": [
    "# Write your answer here\n",
    "\n",
    "log_avg_medicare_payment_hi_dc = np.append(data_dc, data_hawaii)\n",
    "log_avg_medicare_payment_hi_dc.shape"
   ]
  },
  {
   "cell_type": "code",
   "execution_count": 47,
   "metadata": {},
   "outputs": [
    {
     "data": {
      "text/plain": [
       "<matplotlib.collections.PathCollection at 0x7ff4f4536910>"
      ]
     },
     "execution_count": 47,
     "metadata": {},
     "output_type": "execute_result"
    },
    {
     "data": {
      "image/png": "[encoded data removed]",
      "text/plain": [
       "<Figure size 1080x432 with 1 Axes>"
      ]
     },
     "metadata": {
      "needs_background": "light"
     },
     "output_type": "display_data"
    }
   ],
   "source": [
    "observed_test_stat_2 = np.mean(data_hawaii) - np.mean(data_dc)\n",
    "\n",
    "perm_diffs_2 =[]\n",
    "for i in range(5000):\n",
    "    np.random.shuffle(log_avg_medicare_payment_hi_dc)\n",
    "    sample_hawaii= log_avg_medicare_payment_hi_dc[0:data_hawaii.shape[0]]\n",
    "    sample_dc= log_avg_medicare_payment_hi_dc[data_hawaii.shape[0]:]\n",
    "    perm_diffs_2.append(np.mean(sample_hawaii)-np.mean(sample_dc))\n",
    "plt.figure(figsize=(15,6))\n",
    "plt.hist(perm_diffs_2)\n",
    "plt.scatter(observed_test_stat_2, 0, color='r')"
   ]
  },
  {
   "cell_type": "code",
   "execution_count": 48,
   "metadata": {},
   "outputs": [
    {
     "data": {
      "text/plain": [
       "0.7704"
      ]
     },
     "execution_count": 48,
     "metadata": {},
     "output_type": "execute_result"
    }
   ],
   "source": [
    "p_value_2 = sum(np.array(perm_diffs_2) > (observed_test_stat_2)) / len(perm_diffs_2)\n",
    "p_value_2"
   ]
  },
  {
   "cell_type": "code",
   "execution_count": null,
   "metadata": {},
   "outputs": [],
   "source": []
  }
 ],
 "metadata": {
  "celltoolbar": "Slideshow",
  "colab": {
   "collapsed_sections": [],
   "name": "PP_1_Introduction.ipynb",
   "provenance": [],
   "version": "0.3.2"
  },
  "hide_input": false,
  "kernelspec": {
   "display_name": "Python 3 (ipykernel)",
   "language": "python",
   "name": "python3"
  },
  "language_info": {
   "codemirror_mode": {
    "name": "ipython",
    "version": 3
   },
   "file_extension": ".py",
   "mimetype": "text/x-python",
   "name": "python",
   "nbconvert_exporter": "python",
   "pygments_lexer": "ipython3",
   "version": "3.9.7"
  }
 },
 "nbformat": 4,
 "nbformat_minor": 4
}
